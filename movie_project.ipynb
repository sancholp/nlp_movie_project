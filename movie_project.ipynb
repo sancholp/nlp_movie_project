{
  "nbformat": 4,
  "nbformat_minor": 0,
  "metadata": {
    "colab": {
      "provenance": [],
      "authorship_tag": "ABX9TyMN1gCELiZPhBtyTv4BIhuO"
    },
    "kernelspec": {
      "name": "python3",
      "display_name": "Python 3"
    },
    "language_info": {
      "name": "python"
    },
    "accelerator": "GPU",
    "gpuClass": "standard"
  },
  "cells": [
    {
      "cell_type": "markdown",
      "source": [
        "# Tagging a movie based on its plot synopsis\n",
        "\n",
        "In this project, I intend to create a model which, when fed a synopsis of a movie's plot, will assign it tags, as done on [IMDb](https://www.imdb.com/).\n",
        "\n",
        "For this purpose, I will be using a dataset of ~6000 movie summaries, with assigned tags to them. These tags are mutually exclusive, leading to a multi-label classification problem.\n",
        "\n",
        "## 0. Importing necessary libraries and loading in dataset"
      ],
      "metadata": {
        "id": "h2HfkI3-ewL0"
      }
    },
    {
      "cell_type": "code",
      "execution_count": 345,
      "metadata": {
        "id": "BPKBwOhB6RKR",
        "colab": {
          "base_uri": "https://localhost:8080/"
        },
        "outputId": "357c11b4-b4b2-4862-ca52-08ecbe68215f"
      },
      "outputs": [
        {
          "output_type": "stream",
          "name": "stderr",
          "text": [
            "[nltk_data] Downloading package stopwords to /root/nltk_data...\n",
            "[nltk_data]   Package stopwords is already up-to-date!\n",
            "[nltk_data] Downloading package punkt to /root/nltk_data...\n",
            "[nltk_data]   Package punkt is already up-to-date!\n",
            "[nltk_data] Downloading package averaged_perceptron_tagger to\n",
            "[nltk_data]     /root/nltk_data...\n",
            "[nltk_data]   Package averaged_perceptron_tagger is already up-to-\n",
            "[nltk_data]       date!\n",
            "[nltk_data] Downloading package wordnet to /root/nltk_data...\n",
            "[nltk_data]   Package wordnet is already up-to-date!\n",
            "[nltk_data] Downloading package omw-1.4 to /root/nltk_data...\n",
            "[nltk_data]   Package omw-1.4 is already up-to-date!\n"
          ]
        },
        {
          "output_type": "execute_result",
          "data": {
            "text/plain": [
              "True"
            ]
          },
          "metadata": {},
          "execution_count": 345
        }
      ],
      "source": [
        "import ast\n",
        "import re\n",
        "import string\n",
        "import time\n",
        "import importlib\n",
        "import random\n",
        "random.seed(42)\n",
        "\n",
        "import pandas as pd\n",
        "import numpy as np\n",
        "import matplotlib.pyplot as plt\n",
        "plt.style.use('ggplot')\n",
        "\n",
        "import nltk\n",
        "from nltk.corpus import stopwords\n",
        "from nltk.stem import SnowballStemmer\n",
        "from nltk.tokenize import word_tokenize\n",
        "from nltk.corpus import wordnet\n",
        "from nltk.stem import WordNetLemmatizer\n",
        "nltk.download(\"stopwords\")\n",
        "nltk.download(\"punkt\")\n",
        "nltk.download(\"averaged_perceptron_tagger\")\n",
        "nltk.download(\"wordnet\")\n",
        "nltk.download(\"omw-1.4\")\n",
        "\n",
        "early_stopping_pytorch = importlib.import_module(\"early-stopping-pytorch\")\n"
      ]
    },
    {
      "cell_type": "code",
      "source": [
        "!git clone https://github.com/Bjarten/early-stopping-pytorch"
      ],
      "metadata": {
        "colab": {
          "base_uri": "https://localhost:8080/"
        },
        "id": "wf8_A5Xg6VvB",
        "outputId": "a45f1416-a6e3-4baa-c742-899e9336e5eb"
      },
      "execution_count": 346,
      "outputs": [
        {
          "output_type": "stream",
          "name": "stdout",
          "text": [
            "fatal: destination path 'early-stopping-pytorch' already exists and is not an empty directory.\n"
          ]
        }
      ]
    },
    {
      "cell_type": "code",
      "source": [
        "raw_data = pd.read_csv(\"movie_plots.csv\", sep=',', header=0, usecols=[2,3])\n",
        "print(raw_data.isna().sum()) # Check for missing values\n",
        "raw_data"
      ],
      "metadata": {
        "id": "sA_V4Cqs6TNr",
        "colab": {
          "base_uri": "https://localhost:8080/",
          "height": 475
        },
        "outputId": "ed1ccdd2-9c36-4b27-d377-de8d9948e67a"
      },
      "execution_count": 347,
      "outputs": [
        {
          "output_type": "stream",
          "name": "stdout",
          "text": [
            "tags    0\n",
            "plot    0\n",
            "dtype: int64\n"
          ]
        },
        {
          "output_type": "execute_result",
          "data": {
            "text/plain": [
              "                        tags  \\\n",
              "0            ['documentary']   \n",
              "1       ['pirates', 'scifi']   \n",
              "2                  ['drama']   \n",
              "3                  ['drama']   \n",
              "4                  ['drama']   \n",
              "...                      ...   \n",
              "5590  ['politics', 'biopic']   \n",
              "5591          ['super_hero']   \n",
              "5592             ['musical']   \n",
              "5593  ['politics', 'comedy']   \n",
              "5594         ['documentary']   \n",
              "\n",
              "                                                   plot  \n",
              "0     A stationary camera looks across the boulevard...  \n",
              "1     Undersea adventures in a submarine by a dreami...  \n",
              "2     The Outwitting of an Andalusian Brigand by a P...  \n",
              "3     Before the storm. Epoch-making days. Liberty s...  \n",
              "4     John and Tom Wilkins are brothers and most div...  \n",
              "...                                                 ...  \n",
              "5590  November 22, 1963. President John F. Kennedy h...  \n",
              "5591  Melvin, a reluctant Superhero, lives only for ...  \n",
              "5592  One dark night, at water's edge, a family of m...  \n",
              "5593  Three minutes in to her set, Amy Schumer claim...  \n",
              "5594  With more board configurations than there are ...  \n",
              "\n",
              "[5595 rows x 2 columns]"
            ],
            "text/html": [
              "\n",
              "  <div id=\"df-a922a1fa-691c-4061-894b-9dc5bce369aa\">\n",
              "    <div class=\"colab-df-container\">\n",
              "      <div>\n",
              "<style scoped>\n",
              "    .dataframe tbody tr th:only-of-type {\n",
              "        vertical-align: middle;\n",
              "    }\n",
              "\n",
              "    .dataframe tbody tr th {\n",
              "        vertical-align: top;\n",
              "    }\n",
              "\n",
              "    .dataframe thead th {\n",
              "        text-align: right;\n",
              "    }\n",
              "</style>\n",
              "<table border=\"1\" class=\"dataframe\">\n",
              "  <thead>\n",
              "    <tr style=\"text-align: right;\">\n",
              "      <th></th>\n",
              "      <th>tags</th>\n",
              "      <th>plot</th>\n",
              "    </tr>\n",
              "  </thead>\n",
              "  <tbody>\n",
              "    <tr>\n",
              "      <th>0</th>\n",
              "      <td>['documentary']</td>\n",
              "      <td>A stationary camera looks across the boulevard...</td>\n",
              "    </tr>\n",
              "    <tr>\n",
              "      <th>1</th>\n",
              "      <td>['pirates', 'scifi']</td>\n",
              "      <td>Undersea adventures in a submarine by a dreami...</td>\n",
              "    </tr>\n",
              "    <tr>\n",
              "      <th>2</th>\n",
              "      <td>['drama']</td>\n",
              "      <td>The Outwitting of an Andalusian Brigand by a P...</td>\n",
              "    </tr>\n",
              "    <tr>\n",
              "      <th>3</th>\n",
              "      <td>['drama']</td>\n",
              "      <td>Before the storm. Epoch-making days. Liberty s...</td>\n",
              "    </tr>\n",
              "    <tr>\n",
              "      <th>4</th>\n",
              "      <td>['drama']</td>\n",
              "      <td>John and Tom Wilkins are brothers and most div...</td>\n",
              "    </tr>\n",
              "    <tr>\n",
              "      <th>...</th>\n",
              "      <td>...</td>\n",
              "      <td>...</td>\n",
              "    </tr>\n",
              "    <tr>\n",
              "      <th>5590</th>\n",
              "      <td>['politics', 'biopic']</td>\n",
              "      <td>November 22, 1963. President John F. Kennedy h...</td>\n",
              "    </tr>\n",
              "    <tr>\n",
              "      <th>5591</th>\n",
              "      <td>['super_hero']</td>\n",
              "      <td>Melvin, a reluctant Superhero, lives only for ...</td>\n",
              "    </tr>\n",
              "    <tr>\n",
              "      <th>5592</th>\n",
              "      <td>['musical']</td>\n",
              "      <td>One dark night, at water's edge, a family of m...</td>\n",
              "    </tr>\n",
              "    <tr>\n",
              "      <th>5593</th>\n",
              "      <td>['politics', 'comedy']</td>\n",
              "      <td>Three minutes in to her set, Amy Schumer claim...</td>\n",
              "    </tr>\n",
              "    <tr>\n",
              "      <th>5594</th>\n",
              "      <td>['documentary']</td>\n",
              "      <td>With more board configurations than there are ...</td>\n",
              "    </tr>\n",
              "  </tbody>\n",
              "</table>\n",
              "<p>5595 rows × 2 columns</p>\n",
              "</div>\n",
              "      <button class=\"colab-df-convert\" onclick=\"convertToInteractive('df-a922a1fa-691c-4061-894b-9dc5bce369aa')\"\n",
              "              title=\"Convert this dataframe to an interactive table.\"\n",
              "              style=\"display:none;\">\n",
              "        \n",
              "  <svg xmlns=\"http://www.w3.org/2000/svg\" height=\"24px\"viewBox=\"0 0 24 24\"\n",
              "       width=\"24px\">\n",
              "    <path d=\"M0 0h24v24H0V0z\" fill=\"none\"/>\n",
              "    <path d=\"M18.56 5.44l.94 2.06.94-2.06 2.06-.94-2.06-.94-.94-2.06-.94 2.06-2.06.94zm-11 1L8.5 8.5l.94-2.06 2.06-.94-2.06-.94L8.5 2.5l-.94 2.06-2.06.94zm10 10l.94 2.06.94-2.06 2.06-.94-2.06-.94-.94-2.06-.94 2.06-2.06.94z\"/><path d=\"M17.41 7.96l-1.37-1.37c-.4-.4-.92-.59-1.43-.59-.52 0-1.04.2-1.43.59L10.3 9.45l-7.72 7.72c-.78.78-.78 2.05 0 2.83L4 21.41c.39.39.9.59 1.41.59.51 0 1.02-.2 1.41-.59l7.78-7.78 2.81-2.81c.8-.78.8-2.07 0-2.86zM5.41 20L4 18.59l7.72-7.72 1.47 1.35L5.41 20z\"/>\n",
              "  </svg>\n",
              "      </button>\n",
              "      \n",
              "  <style>\n",
              "    .colab-df-container {\n",
              "      display:flex;\n",
              "      flex-wrap:wrap;\n",
              "      gap: 12px;\n",
              "    }\n",
              "\n",
              "    .colab-df-convert {\n",
              "      background-color: #E8F0FE;\n",
              "      border: none;\n",
              "      border-radius: 50%;\n",
              "      cursor: pointer;\n",
              "      display: none;\n",
              "      fill: #1967D2;\n",
              "      height: 32px;\n",
              "      padding: 0 0 0 0;\n",
              "      width: 32px;\n",
              "    }\n",
              "\n",
              "    .colab-df-convert:hover {\n",
              "      background-color: #E2EBFA;\n",
              "      box-shadow: 0px 1px 2px rgba(60, 64, 67, 0.3), 0px 1px 3px 1px rgba(60, 64, 67, 0.15);\n",
              "      fill: #174EA6;\n",
              "    }\n",
              "\n",
              "    [theme=dark] .colab-df-convert {\n",
              "      background-color: #3B4455;\n",
              "      fill: #D2E3FC;\n",
              "    }\n",
              "\n",
              "    [theme=dark] .colab-df-convert:hover {\n",
              "      background-color: #434B5C;\n",
              "      box-shadow: 0px 1px 3px 1px rgba(0, 0, 0, 0.15);\n",
              "      filter: drop-shadow(0px 1px 2px rgba(0, 0, 0, 0.3));\n",
              "      fill: #FFFFFF;\n",
              "    }\n",
              "  </style>\n",
              "\n",
              "      <script>\n",
              "        const buttonEl =\n",
              "          document.querySelector('#df-a922a1fa-691c-4061-894b-9dc5bce369aa button.colab-df-convert');\n",
              "        buttonEl.style.display =\n",
              "          google.colab.kernel.accessAllowed ? 'block' : 'none';\n",
              "\n",
              "        async function convertToInteractive(key) {\n",
              "          const element = document.querySelector('#df-a922a1fa-691c-4061-894b-9dc5bce369aa');\n",
              "          const dataTable =\n",
              "            await google.colab.kernel.invokeFunction('convertToInteractive',\n",
              "                                                     [key], {});\n",
              "          if (!dataTable) return;\n",
              "\n",
              "          const docLinkHtml = 'Like what you see? Visit the ' +\n",
              "            '<a target=\"_blank\" href=https://colab.research.google.com/notebooks/data_table.ipynb>data table notebook</a>'\n",
              "            + ' to learn more about interactive tables.';\n",
              "          element.innerHTML = '';\n",
              "          dataTable['output_type'] = 'display_data';\n",
              "          await google.colab.output.renderOutput(dataTable, element);\n",
              "          const docLink = document.createElement('div');\n",
              "          docLink.innerHTML = docLinkHtml;\n",
              "          element.appendChild(docLink);\n",
              "        }\n",
              "      </script>\n",
              "    </div>\n",
              "  </div>\n",
              "  "
            ]
          },
          "metadata": {},
          "execution_count": 347
        }
      ]
    },
    {
      "cell_type": "code",
      "source": [
        "# Replacing tags:String to tags:List[String]\n",
        "list_tags = []\n",
        "for tag in raw_data[\"tags\"]:\n",
        "    tag = ast.literal_eval(tag)\n",
        "    list_tags.append(tag)\n",
        "\n",
        "raw_data[\"tags\"] = list_tags\n",
        "raw_data"
      ],
      "metadata": {
        "id": "olE2Tb7n8qBS",
        "colab": {
          "base_uri": "https://localhost:8080/",
          "height": 423
        },
        "outputId": "fc2b76d9-8719-455e-ce19-08de29bd0a49"
      },
      "execution_count": 348,
      "outputs": [
        {
          "output_type": "execute_result",
          "data": {
            "text/plain": [
              "                    tags                                               plot\n",
              "0          [documentary]  A stationary camera looks across the boulevard...\n",
              "1       [pirates, scifi]  Undersea adventures in a submarine by a dreami...\n",
              "2                [drama]  The Outwitting of an Andalusian Brigand by a P...\n",
              "3                [drama]  Before the storm. Epoch-making days. Liberty s...\n",
              "4                [drama]  John and Tom Wilkins are brothers and most div...\n",
              "...                  ...                                                ...\n",
              "5590  [politics, biopic]  November 22, 1963. President John F. Kennedy h...\n",
              "5591        [super_hero]  Melvin, a reluctant Superhero, lives only for ...\n",
              "5592           [musical]  One dark night, at water's edge, a family of m...\n",
              "5593  [politics, comedy]  Three minutes in to her set, Amy Schumer claim...\n",
              "5594       [documentary]  With more board configurations than there are ...\n",
              "\n",
              "[5595 rows x 2 columns]"
            ],
            "text/html": [
              "\n",
              "  <div id=\"df-a50f94da-5dd5-4c64-b573-7b4640ac815d\">\n",
              "    <div class=\"colab-df-container\">\n",
              "      <div>\n",
              "<style scoped>\n",
              "    .dataframe tbody tr th:only-of-type {\n",
              "        vertical-align: middle;\n",
              "    }\n",
              "\n",
              "    .dataframe tbody tr th {\n",
              "        vertical-align: top;\n",
              "    }\n",
              "\n",
              "    .dataframe thead th {\n",
              "        text-align: right;\n",
              "    }\n",
              "</style>\n",
              "<table border=\"1\" class=\"dataframe\">\n",
              "  <thead>\n",
              "    <tr style=\"text-align: right;\">\n",
              "      <th></th>\n",
              "      <th>tags</th>\n",
              "      <th>plot</th>\n",
              "    </tr>\n",
              "  </thead>\n",
              "  <tbody>\n",
              "    <tr>\n",
              "      <th>0</th>\n",
              "      <td>[documentary]</td>\n",
              "      <td>A stationary camera looks across the boulevard...</td>\n",
              "    </tr>\n",
              "    <tr>\n",
              "      <th>1</th>\n",
              "      <td>[pirates, scifi]</td>\n",
              "      <td>Undersea adventures in a submarine by a dreami...</td>\n",
              "    </tr>\n",
              "    <tr>\n",
              "      <th>2</th>\n",
              "      <td>[drama]</td>\n",
              "      <td>The Outwitting of an Andalusian Brigand by a P...</td>\n",
              "    </tr>\n",
              "    <tr>\n",
              "      <th>3</th>\n",
              "      <td>[drama]</td>\n",
              "      <td>Before the storm. Epoch-making days. Liberty s...</td>\n",
              "    </tr>\n",
              "    <tr>\n",
              "      <th>4</th>\n",
              "      <td>[drama]</td>\n",
              "      <td>John and Tom Wilkins are brothers and most div...</td>\n",
              "    </tr>\n",
              "    <tr>\n",
              "      <th>...</th>\n",
              "      <td>...</td>\n",
              "      <td>...</td>\n",
              "    </tr>\n",
              "    <tr>\n",
              "      <th>5590</th>\n",
              "      <td>[politics, biopic]</td>\n",
              "      <td>November 22, 1963. President John F. Kennedy h...</td>\n",
              "    </tr>\n",
              "    <tr>\n",
              "      <th>5591</th>\n",
              "      <td>[super_hero]</td>\n",
              "      <td>Melvin, a reluctant Superhero, lives only for ...</td>\n",
              "    </tr>\n",
              "    <tr>\n",
              "      <th>5592</th>\n",
              "      <td>[musical]</td>\n",
              "      <td>One dark night, at water's edge, a family of m...</td>\n",
              "    </tr>\n",
              "    <tr>\n",
              "      <th>5593</th>\n",
              "      <td>[politics, comedy]</td>\n",
              "      <td>Three minutes in to her set, Amy Schumer claim...</td>\n",
              "    </tr>\n",
              "    <tr>\n",
              "      <th>5594</th>\n",
              "      <td>[documentary]</td>\n",
              "      <td>With more board configurations than there are ...</td>\n",
              "    </tr>\n",
              "  </tbody>\n",
              "</table>\n",
              "<p>5595 rows × 2 columns</p>\n",
              "</div>\n",
              "      <button class=\"colab-df-convert\" onclick=\"convertToInteractive('df-a50f94da-5dd5-4c64-b573-7b4640ac815d')\"\n",
              "              title=\"Convert this dataframe to an interactive table.\"\n",
              "              style=\"display:none;\">\n",
              "        \n",
              "  <svg xmlns=\"http://www.w3.org/2000/svg\" height=\"24px\"viewBox=\"0 0 24 24\"\n",
              "       width=\"24px\">\n",
              "    <path d=\"M0 0h24v24H0V0z\" fill=\"none\"/>\n",
              "    <path d=\"M18.56 5.44l.94 2.06.94-2.06 2.06-.94-2.06-.94-.94-2.06-.94 2.06-2.06.94zm-11 1L8.5 8.5l.94-2.06 2.06-.94-2.06-.94L8.5 2.5l-.94 2.06-2.06.94zm10 10l.94 2.06.94-2.06 2.06-.94-2.06-.94-.94-2.06-.94 2.06-2.06.94z\"/><path d=\"M17.41 7.96l-1.37-1.37c-.4-.4-.92-.59-1.43-.59-.52 0-1.04.2-1.43.59L10.3 9.45l-7.72 7.72c-.78.78-.78 2.05 0 2.83L4 21.41c.39.39.9.59 1.41.59.51 0 1.02-.2 1.41-.59l7.78-7.78 2.81-2.81c.8-.78.8-2.07 0-2.86zM5.41 20L4 18.59l7.72-7.72 1.47 1.35L5.41 20z\"/>\n",
              "  </svg>\n",
              "      </button>\n",
              "      \n",
              "  <style>\n",
              "    .colab-df-container {\n",
              "      display:flex;\n",
              "      flex-wrap:wrap;\n",
              "      gap: 12px;\n",
              "    }\n",
              "\n",
              "    .colab-df-convert {\n",
              "      background-color: #E8F0FE;\n",
              "      border: none;\n",
              "      border-radius: 50%;\n",
              "      cursor: pointer;\n",
              "      display: none;\n",
              "      fill: #1967D2;\n",
              "      height: 32px;\n",
              "      padding: 0 0 0 0;\n",
              "      width: 32px;\n",
              "    }\n",
              "\n",
              "    .colab-df-convert:hover {\n",
              "      background-color: #E2EBFA;\n",
              "      box-shadow: 0px 1px 2px rgba(60, 64, 67, 0.3), 0px 1px 3px 1px rgba(60, 64, 67, 0.15);\n",
              "      fill: #174EA6;\n",
              "    }\n",
              "\n",
              "    [theme=dark] .colab-df-convert {\n",
              "      background-color: #3B4455;\n",
              "      fill: #D2E3FC;\n",
              "    }\n",
              "\n",
              "    [theme=dark] .colab-df-convert:hover {\n",
              "      background-color: #434B5C;\n",
              "      box-shadow: 0px 1px 3px 1px rgba(0, 0, 0, 0.15);\n",
              "      filter: drop-shadow(0px 1px 2px rgba(0, 0, 0, 0.3));\n",
              "      fill: #FFFFFF;\n",
              "    }\n",
              "  </style>\n",
              "\n",
              "      <script>\n",
              "        const buttonEl =\n",
              "          document.querySelector('#df-a50f94da-5dd5-4c64-b573-7b4640ac815d button.colab-df-convert');\n",
              "        buttonEl.style.display =\n",
              "          google.colab.kernel.accessAllowed ? 'block' : 'none';\n",
              "\n",
              "        async function convertToInteractive(key) {\n",
              "          const element = document.querySelector('#df-a50f94da-5dd5-4c64-b573-7b4640ac815d');\n",
              "          const dataTable =\n",
              "            await google.colab.kernel.invokeFunction('convertToInteractive',\n",
              "                                                     [key], {});\n",
              "          if (!dataTable) return;\n",
              "\n",
              "          const docLinkHtml = 'Like what you see? Visit the ' +\n",
              "            '<a target=\"_blank\" href=https://colab.research.google.com/notebooks/data_table.ipynb>data table notebook</a>'\n",
              "            + ' to learn more about interactive tables.';\n",
              "          element.innerHTML = '';\n",
              "          dataTable['output_type'] = 'display_data';\n",
              "          await google.colab.output.renderOutput(dataTable, element);\n",
              "          const docLink = document.createElement('div');\n",
              "          docLink.innerHTML = docLinkHtml;\n",
              "          element.appendChild(docLink);\n",
              "        }\n",
              "      </script>\n",
              "    </div>\n",
              "  </div>\n",
              "  "
            ]
          },
          "metadata": {},
          "execution_count": 348
        }
      ]
    },
    {
      "cell_type": "markdown",
      "source": [
        "## 1. Data Exploration\n",
        "\n",
        "Before starting to train models, we should explore the dataset to see what insights we can obtain. Firstly, I'll look at the distribution of the tags assigned to each movie."
      ],
      "metadata": {
        "id": "Fwk93hGGekGK"
      }
    },
    {
      "cell_type": "code",
      "source": [
        "def plot_tag_distribution(tags_col):\n",
        "    tag_counts = pd.DataFrame({'tags': pd.Series([tag for tags in tags_col for tag in tags])}).apply(pd.value_counts) \n",
        "    # Plot tag distribution\n",
        "    tag_names = tag_counts.index.values.tolist()\n",
        "    total_tags = len(tag_names)\n",
        "    tag_counts = tag_counts.values[:,0].tolist()\n",
        "\n",
        "    fig = plt.figure(figsize=(20,5))\n",
        "    plt.title('Distribution of tags')\n",
        "    plt.xlabel('Tags')\n",
        "    plt.ylabel('Counts')\n",
        "    plt.xlim([-1, len(tag_names)])\n",
        "    plt.bar(tag_names, tag_counts)\n",
        "    plt.yscale('log')\n",
        "    plt.xticks(rotation='vertical')\n",
        "    plt.tight_layout()\n",
        "    plt.show()\n",
        "    return total_tags\n",
        "\n",
        "total_tags = plot_tag_distribution(raw_data[\"tags\"])\n",
        "print(f\"Number of tags: {total_tags}\")"
      ],
      "metadata": {
        "colab": {
          "base_uri": "https://localhost:8080/",
          "height": 308
        },
        "id": "w_XRkxzw7prG",
        "outputId": "2488d604-cbdf-42df-e350-58cb681ee192"
      },
      "execution_count": 349,
      "outputs": [
        {
          "output_type": "display_data",
          "data": {
            "text/plain": [
              "<Figure size 1440x360 with 1 Axes>"
            ],
            "image/png": "[encoded data removed]"
          },
          "metadata": {}
        },
        {
          "output_type": "stream",
          "name": "stdout",
          "text": [
            "Number of tags: 85\n"
          ]
        }
      ]
    },
    {
      "cell_type": "markdown",
      "source": [
        "As we can see from the distribution of the tags, the dataset is quite unbalanced and shows a long tail. The difference between the most and least common tag is of almost 1.5 orders of magnitude. We should keep this in mind when training and evaluating our models, as simply predicting drama would artificially create a decent classifier.\n",
        "\n",
        "Now let's have a look at the number of tags per movie."
      ],
      "metadata": {
        "id": "cK-va8Yyd4cj"
      }
    },
    {
      "cell_type": "code",
      "source": [
        "num_tags = raw_data[\"tags\"].str.len()\n",
        "counts, bins = np.histogram(num_tags, bins=max(num_tags)-1)\n",
        "\n",
        "fig = plt.figure(figsize=(10,5))\n",
        "plt.title('Number of tags per movie')\n",
        "plt.xlabel('Number of tags')\n",
        "plt.ylabel('Movies')\n",
        "plt.xticks(bins)\n",
        "plt.bar(bins[:-1], counts)\n",
        "plt.tight_layout()\n",
        "plt.show()"
      ],
      "metadata": {
        "colab": {
          "base_uri": "https://localhost:8080/",
          "height": 369
        },
        "id": "VRem2ouBv7hV",
        "outputId": "b6ee6c71-da45-46f1-86c1-2e0cb9b09ec7"
      },
      "execution_count": 350,
      "outputs": [
        {
          "output_type": "display_data",
          "data": {
            "text/plain": [
              "<Figure size 720x360 with 1 Axes>"
            ],
            "image/png": "[encoded data removed]"
          },
          "metadata": {}
        }
      ]
    },
    {
      "cell_type": "markdown",
      "source": [
        "From this plot we can see that the dataset is indeed extremely unbalanced, not only in the distribution of tags, but also in the number of tags per movie. I'll keep this in mind when designing our models.\n",
        "\n",
        "## 2. Data preparation\n",
        "\n",
        "### 2.1 Label encoding\n",
        "\n",
        "Now I have to prepare our data for training the models. Firstly, we have to encode the labels. Given that the dataset is multi-labeled, we can't just apply a simple encoding mechanism, such as 1-hot, as each feature might have more than one target. For this end, I'll encode with a [MultiLabelBinarizer](https://scikit-learn.org/stable/modules/generated/sklearn.preprocessing.MultiLabelBinarizer.html). We will also define our features as $X$ (plot synopsis) and our labels as $y$ (tags). "
      ],
      "metadata": {
        "id": "SmG7alxX3f1C"
      }
    },
    {
      "cell_type": "code",
      "source": [
        "X = raw_data[\"plot\"]\n",
        "y = raw_data[\"tags\"]"
      ],
      "metadata": {
        "id": "2IMq2Ehg5D40"
      },
      "execution_count": 351,
      "outputs": []
    },
    {
      "cell_type": "code",
      "source": [
        "from sklearn.preprocessing import MultiLabelBinarizer\n",
        "\n",
        "mlb = MultiLabelBinarizer()\n",
        "y = mlb.fit_transform(y)\n",
        "print(y.shape)"
      ],
      "metadata": {
        "colab": {
          "base_uri": "https://localhost:8080/"
        },
        "id": "tmP6nh3G7Jd1",
        "outputId": "b9e6fd47-8b59-4b75-ca8a-77864dee5ce2"
      },
      "execution_count": 352,
      "outputs": [
        {
          "output_type": "stream",
          "name": "stdout",
          "text": [
            "(5595, 85)\n"
          ]
        }
      ]
    },
    {
      "cell_type": "code",
      "source": [
        "# Cross check with raw data to confirm it's working (and that there's a lot of drama)\n",
        "print(y[0:3])\n",
        "print(mlb.inverse_transform(y[0:3]))"
      ],
      "metadata": {
        "colab": {
          "base_uri": "https://localhost:8080/"
        },
        "id": "xI2D5ofg6gDp",
        "outputId": "06701f4e-b538-4df2-f2c5-24fad3e6aef8"
      },
      "execution_count": 353,
      "outputs": [
        {
          "output_type": "stream",
          "name": "stdout",
          "text": [
            "[[0 0 0 0 0 0 0 0 0 0 0 0 0 0 0 0 0 0 0 0 0 0 1 0 0 0 0 0 0 0 0 0 0 0 0 0\n",
            "  0 0 0 0 0 0 0 0 0 0 0 0 0 0 0 0 0 0 0 0 0 0 0 0 0 0 0 0 0 0 0 0 0 0 0 0\n",
            "  0 0 0 0 0 0 0 0 0 0 0 0 0]\n",
            " [0 0 0 0 0 0 0 0 0 0 0 0 0 0 0 0 0 0 0 0 0 0 0 0 0 0 0 0 0 0 0 0 0 0 0 0\n",
            "  0 0 0 0 0 0 0 0 0 0 0 0 0 0 0 0 0 1 0 0 0 0 0 0 0 0 0 1 0 0 0 0 0 0 0 0\n",
            "  0 0 0 0 0 0 0 0 0 0 0 0 0]\n",
            " [0 0 0 0 0 0 0 0 0 0 0 0 0 0 0 0 0 0 0 0 0 0 0 1 0 0 0 0 0 0 0 0 0 0 0 0\n",
            "  0 0 0 0 0 0 0 0 0 0 0 0 0 0 0 0 0 0 0 0 0 0 0 0 0 0 0 0 0 0 0 0 0 0 0 0\n",
            "  0 0 0 0 0 0 0 0 0 0 0 0 0]]\n",
            "[('documentary',), ('pirates', 'scifi'), ('drama',)]\n"
          ]
        }
      ]
    },
    {
      "cell_type": "markdown",
      "source": [
        "### 2.2 Preparing the features\n",
        "\n",
        "In order to train and evaluate the models, I have to first split the dataset into a train, a validation and a test dataset. Given that the dataset is unbalanced, one has to make sure to preserve the distribution of tags in all sets, and make sure that all sets contain all tags. For this reason I stratify the sampling of the dataset. However, the dataset is multi-labelled, and so traditional single-label stratification methods will not work, as described [here](http://scikit.ml/stratification.html). I will use sk-multilearn's implementation of iterative stratification. "
      ],
      "metadata": {
        "id": "SNjaUWMwF26B"
      }
    },
    {
      "cell_type": "code",
      "source": [
        "!pip install scikit-multilearn"
      ],
      "metadata": {
        "colab": {
          "base_uri": "https://localhost:8080/"
        },
        "id": "ZTmM1y_1_Y8D",
        "outputId": "32d4dbd0-25f0-41cb-b5b9-7cff992d072e"
      },
      "execution_count": 354,
      "outputs": [
        {
          "output_type": "stream",
          "name": "stdout",
          "text": [
            "Looking in indexes: https://pypi.org/simple, https://us-python.pkg.dev/colab-wheels/public/simple/\n",
            "Requirement already satisfied: scikit-multilearn in /usr/local/lib/python3.8/dist-packages (0.2.0)\n"
          ]
        }
      ]
    },
    {
      "cell_type": "code",
      "source": [
        "from skmultilearn.model_selection.iterative_stratification import IterativeStratification\n",
        "\n",
        "def iterative_train_test_split(X, y, test_size):\n",
        "    stratifier = IterativeStratification(\n",
        "        n_splits=2, order=1, sample_distribution_per_fold=[test_size, 1-test_size, ])\n",
        "    train_indices, test_indices = next(stratifier.split(X, y))\n",
        "    X_train, y_train = X[train_indices], y[train_indices]\n",
        "    X_test, y_test = X[test_indices], y[test_indices]\n",
        "    return X_train, X_test, y_train, y_test\n",
        "\n",
        "# Can't split into 3 sets for some reason!!\n",
        "\n",
        "# def train_val_test_split(X, y, test_size=0.1, val_size=0.2):\n",
        "#     X_trainval, X_test, y_trainval, y_test = iterative_train_test_split(X, y, test_size=test_size)\n",
        "#     # print(X_trainval.shape, y_trainval.shape)\n",
        "#     # print(X_test.shape, y_test.shape)\n",
        "#     X_train, X_val, y_train, y_val = iterative_train_test_split(X_trainval, y_trainval, test_size=val_size)#/(1-test_size))\n",
        "#     return X_train, X_val, X_test, y_train, y_val, y_test\n",
        "\n",
        "# def iterative_train_val_test_split(X, y, val_size, test_size):\n",
        "#     stratifier = IterativeStratification(\n",
        "#         n_splits=3, order=1, sample_distribution_per_fold=[1-test_size-val_size, val_size, test_size])\n",
        "#     train_indices, val_indices, test_indices = next(stratifier.split(X, y)) #<-- Returns only 2 sets of indices, not 3\n",
        "#     X_train, y_train = X[train_indices], y[train_indices]\n",
        "#     X_test, y_test = X[test_indices], y[test_indices]\n",
        "#     return X_train, X_test, y_train, y_test"
      ],
      "metadata": {
        "id": "KxAQAyeH-1mb"
      },
      "execution_count": 355,
      "outputs": []
    },
    {
      "cell_type": "code",
      "source": [
        "X_train_complete, X_val_complete, y_train, y_val = iterative_train_test_split(X, y, 0.1)\n",
        "print(X_train_complete.shape, y_train.shape)\n",
        "print(X_val_complete.shape, y_val.shape)"
      ],
      "metadata": {
        "colab": {
          "base_uri": "https://localhost:8080/"
        },
        "id": "xb27Y7jHQXSP",
        "outputId": "b821556e-90e5-464f-ee27-823b3a9c1afc"
      },
      "execution_count": 356,
      "outputs": [
        {
          "output_type": "stream",
          "name": "stdout",
          "text": [
            "(4872,) (4872, 85)\n",
            "(723,) (723, 85)\n"
          ]
        }
      ]
    },
    {
      "cell_type": "markdown",
      "source": [
        "Having stratified the data when creating the train-val split, we expect a similar distribution of tags in the train and val set as that of the entire dataset."
      ],
      "metadata": {
        "id": "H2cpZ6GOcQcK"
      }
    },
    {
      "cell_type": "code",
      "source": [
        "train_tags = plot_tag_distribution(mlb.inverse_transform(y_train_complete))\n",
        "print(f\"Number of tags: {train_tags}\")\n",
        "val_tags = plot_tag_distribution(mlb.inverse_transform(y_val_complete))\n",
        "print(f\"Number of tags: {val_tags}\")"
      ],
      "metadata": {
        "colab": {
          "base_uri": "https://localhost:8080/",
          "height": 599
        },
        "id": "BApD3-8_TwRr",
        "outputId": "a2ce20df-4ef6-4679-bd20-2ce94daf1a2d"
      },
      "execution_count": 357,
      "outputs": [
        {
          "output_type": "display_data",
          "data": {
            "text/plain": [
              "<Figure size 1440x360 with 1 Axes>"
            ],
            "image/png": "[encoded data removed]"
          },
          "metadata": {}
        },
        {
          "output_type": "stream",
          "name": "stdout",
          "text": [
            "Number of tags: 85\n"
          ]
        },
        {
          "output_type": "display_data",
          "data": {
            "text/plain": [
              "<Figure size 1440x360 with 1 Axes>"
            ],
            "image/png": "[encoded data removed]"
          },
          "metadata": {}
        },
        {
          "output_type": "stream",
          "name": "stdout",
          "text": [
            "Number of tags: 85\n"
          ]
        }
      ]
    },
    {
      "cell_type": "markdown",
      "source": [
        "Given that the features contain text, it is necessary to pre-process this text. Firstly, I will make the text more uniform by casting everything to lowercase, cleaning extra whitespace, removing punctuation and removing any rogue HTML tags. Furthermore, I will strip the sentences of unnecessary stop words. This way, only the important words are used by the model to train. Furthermore, unimportant word endings will also be removed. Two methods will be tested; [stemming](https://en.wikipedia.org/wiki/Stemming) and [lemmatization](https://en.wikipedia.org/wiki/Lemmatisation).\n",
        "\n"
      ],
      "metadata": {
        "id": "gzjFpQpWcqu9"
      }
    },
    {
      "cell_type": "code",
      "source": [
        "stopwords = stopwords.words(\"english\")\n",
        "stemmer = SnowballStemmer(\"english\")\n",
        "lemmatizer = WordNetLemmatizer()"
      ],
      "metadata": {
        "id": "xERc-lwINdS2"
      },
      "execution_count": 358,
      "outputs": []
    },
    {
      "cell_type": "code",
      "source": [
        "def get_wordnet_pos(tag):\n",
        "    \"\"\" Map NLTK position tags \"\"\"\n",
        "    if tag.startswith(\"J\"):\n",
        "        return wordnet.ADJ\n",
        "    elif tag.startswith(\"V\"):\n",
        "        return wordnet.VERB\n",
        "    elif tag.startswith(\"N\"):\n",
        "        return wordnet.NOUN\n",
        "    elif tag.startswith(\"R\"):\n",
        "        return wordnet.ADV\n",
        "    else:\n",
        "        return wordnet.NOUN\n",
        "\n",
        "def clean_text(texts, method=None):\n",
        "    \"\"\" :method: - ['stemming', 'lemmatization'] \"\"\"\n",
        "    clean_texts = []\n",
        "    for text in texts:\n",
        "        clean_text = []\n",
        "        text = text.lower()\n",
        "        text = text.strip()\n",
        "        text = re.sub(\"[^\\w\\s\\d]\", \" \", text)\n",
        "        text = re.sub(\"\\s+\", \" \", text)\n",
        "        text = re.sub(\"<.*?>\", \"\", text)\n",
        "        if method == 'stemming':\n",
        "            for word in word_tokenize(text):\n",
        "                if word not in stopwords:\n",
        "                    clean_text.append(stemmer.stem(word))\n",
        "        elif method == 'lemmatization':\n",
        "            lemmatized_text = []\n",
        "            words = word_tokenize(text)\n",
        "            word_pos_tags = nltk.pos_tag(words)\n",
        "            for idx, tag in enumerate(word_pos_tags):\n",
        "                lemmatized_text.append(lemmatizer.lemmatize(tag[0], get_wordnet_pos(tag[1])))\n",
        "            for word in lemmatized_text:\n",
        "                if word not in stopwords:\n",
        "                    clean_text.append(word)\n",
        "        else:\n",
        "            raise ValueError(\"Choose either 'stemming' or 'lemmatization' as the method\")\n",
        "        clean_texts.append(\" \".join(clean_text))\n",
        "    return clean_texts"
      ],
      "metadata": {
        "id": "qLH_NjWM6g7M"
      },
      "execution_count": 359,
      "outputs": []
    },
    {
      "cell_type": "code",
      "source": [
        "# Lets test it out\n",
        "movie_plot = X_train_complete.iloc[0]\n",
        "print(f\"Raw text: \\n{movie_plot}\\n\")\n",
        "print(f\"Preprocessed text with stemming:\\n{clean_text([movie_plot], method='stemming')}\\n\")\n",
        "print(f\"Preprocessed text with lemmatization:\\n{clean_text([movie_plot], method='lemmatization')}\")"
      ],
      "metadata": {
        "colab": {
          "base_uri": "https://localhost:8080/"
        },
        "id": "4PtuU272-RYB",
        "outputId": "cb48df98-5614-4959-8894-4ef52e664fcf"
      },
      "execution_count": 360,
      "outputs": [
        {
          "output_type": "stream",
          "name": "stdout",
          "text": [
            "Raw text: \n",
            "A stationary camera looks across the boulevard at a diagonal toward one corner of Lyon's Cordeliers' Square. It's a long shot, with a great deal of depth of focus. We can see the sky and fronts of four buildings, each four or five stories tall. It's a busy thoroughfare, with pedestrians walking in front of the buildings and crossing the boulevard between horse-drawn vehicles. A double-decker bus passes in front of us, pulled by two horses. Various tradesmen pass on wagons. One van passes.\n",
            "\n",
            "Preprocessed text with stemming:\n",
            "['stationari camera look across boulevard diagon toward one corner lyon cordeli squar long shot great deal depth focus see sky front four build four five stori tall busi thoroughfar pedestrian walk front build cross boulevard hors drawn vehicl doubl decker bus pass front us pull two hors various tradesmen pass wagon one van pass']\n",
            "\n",
            "Preprocessed text with lemmatization:\n",
            "['stationary camera look across boulevard diagonal toward one corner lyon cordeliers square long shot great deal depth focus see sky front four building four five story tall busy thoroughfare pedestrian walk front building cross boulevard horse drawn vehicle double decker bus pass front u pull two horse various tradesman pass wagon one van pass']\n"
          ]
        }
      ]
    },
    {
      "cell_type": "markdown",
      "source": [
        "# "
      ],
      "metadata": {
        "id": "oHVxZCgce95G"
      }
    },
    {
      "cell_type": "markdown",
      "source": [
        "# 3. Fitting a simple model\n",
        "\n",
        "Now we move on to fitting the first model. First, I will clean the texts using stemming."
      ],
      "metadata": {
        "id": "I_bKDY8Pd0zW"
      }
    },
    {
      "cell_type": "code",
      "source": [
        "X_train = clean_text(X_train_complete, 'stemming')\n",
        "X_val = clean_text(X_val_complete, 'stemming')"
      ],
      "metadata": {
        "id": "ONV_7QW5dN4D"
      },
      "execution_count": 361,
      "outputs": []
    },
    {
      "cell_type": "markdown",
      "source": [
        "The feature texts need to be encoded. I will extract their TF-IDF vectors."
      ],
      "metadata": {
        "id": "L6E1Vnfageqg"
      }
    },
    {
      "cell_type": "code",
      "source": [
        "from sklearn.feature_extraction.text import TfidfVectorizer\n",
        "\n",
        "tfidf_features = 750\n",
        "tfidf_vectorizer = TfidfVectorizer(max_features=tfidf_features)\n",
        "\n",
        "tfidf_vectorizer.fit(X_train)\n",
        "\n",
        "X_train = tfidf_vectorizer.transform(X_train).toarray()\n",
        "X_val = tfidf_vectorizer.transform(X_val).toarray()"
      ],
      "metadata": {
        "id": "x0262rGGdiu8"
      },
      "execution_count": 362,
      "outputs": []
    },
    {
      "cell_type": "markdown",
      "source": [
        "## 3.1 Defining the model\n",
        "\n",
        "The first model I will fit is a very simple logistic regression, a.k.a. a single layered neural network."
      ],
      "metadata": {
        "id": "YVgoOdrogiqU"
      }
    },
    {
      "cell_type": "code",
      "source": [
        "import torch\n",
        "import torch.nn as nn\n",
        "from torch.utils.data import TensorDataset\n",
        "from torch.utils.data import DataLoader\n",
        "\n",
        "device = \"cuda\" if torch.cuda.is_available() else \"mps\" if torch.backends.mps.is_available() else \"cpu\"\n",
        "print(f\"Using {device} device\")"
      ],
      "metadata": {
        "colab": {
          "base_uri": "https://localhost:8080/"
        },
        "id": "oQqfezq1fTN6",
        "outputId": "2e5c9e0f-f3b3-43d1-fbd8-51c69326027e"
      },
      "execution_count": 363,
      "outputs": [
        {
          "output_type": "stream",
          "name": "stdout",
          "text": [
            "Using cuda device\n"
          ]
        }
      ]
    },
    {
      "cell_type": "markdown",
      "source": [
        "Here I define the hyperparameters that will be optimized. I will be leaving the learning rate mostly fixed, as altering the batch size leads to an equivalent result, as discussed [in this paper](https://arxiv.org/abs/1711.00489)."
      ],
      "metadata": {
        "id": "49897FyaJyEl"
      }
    },
    {
      "cell_type": "code",
      "source": [
        "# Model hyperparameters\n",
        "batch_size = 8\n",
        "num_epochs = 150\n",
        "learning_rate = 1e-2"
      ],
      "metadata": {
        "id": "X1h8xaFihEgc"
      },
      "execution_count": 364,
      "outputs": []
    },
    {
      "cell_type": "code",
      "source": [
        "class SingleLayerNetwork(nn.Module):\n",
        "    def __init__(self, input_size, output_size):\n",
        "        super().__init__()\n",
        "        self.net_stack = nn.Sequential(\n",
        "            nn.Linear(in_features=input_size, out_features=output_size),\n",
        "            nn.Sigmoid()\n",
        "        )\n",
        "    \n",
        "    def forward(self, x):\n",
        "        logits = self.net_stack(x)\n",
        "        return logits\n",
        "    \n",
        "model = SingleLayerNetwork(tfidf_features, total_tags).to(device)\n",
        "print(model)"
      ],
      "metadata": {
        "colab": {
          "base_uri": "https://localhost:8080/"
        },
        "id": "-XmQ0gJOhx4f",
        "outputId": "bf1e2e7f-965e-4f2b-d51a-15983d3a1e5f"
      },
      "execution_count": 412,
      "outputs": [
        {
          "output_type": "stream",
          "name": "stdout",
          "text": [
            "SingleLayerNetwork(\n",
            "  (net_stack): Sequential(\n",
            "    (0): Linear(in_features=750, out_features=85, bias=True)\n",
            "    (1): Sigmoid()\n",
            "  )\n",
            ")\n"
          ]
        }
      ]
    },
    {
      "cell_type": "markdown",
      "source": [
        "To train this model I will use a binary cross entropy loss function and an Adam optimizer. The model parameters will be initialized with the [default](https://pytorch.org/tutorials/prototype/skip_param_init.html) Linear parameter initialization. I'll also prepare the data to be fed to the model."
      ],
      "metadata": {
        "id": "-gBn69JXmYIb"
      }
    },
    {
      "cell_type": "code",
      "source": [
        "loss_fn = nn.CrossEntropyLoss()\n",
        "optimizer = torch.optim.Adam(model.parameters(), lr=learning_rate)"
      ],
      "metadata": {
        "id": "gNVNlQfU1m8R"
      },
      "execution_count": 413,
      "outputs": []
    },
    {
      "cell_type": "markdown",
      "source": [
        "## 3.2 Training the model"
      ],
      "metadata": {
        "id": "uvatlOxJGzHj"
      }
    },
    {
      "cell_type": "code",
      "source": [
        "train_dataset = TensorDataset(\n",
        "    torch.tensor(X_train, dtype=torch.float32),\n",
        "    torch.tensor(y_train, dtype=torch.float32),\n",
        ")\n",
        "train_loader = DataLoader(train_dataset, batch_size=batch_size)\n",
        "\n",
        "val_dataset = TensorDataset(\n",
        "    torch.tensor(X_val, dtype=torch.float32),\n",
        "    torch.tensor(y_val, dtype=torch.float32),\n",
        ")\n",
        "val_loader = DataLoader(val_dataset, batch_size=batch_size)"
      ],
      "metadata": {
        "id": "cj51MTWSjXiV"
      },
      "execution_count": 414,
      "outputs": []
    },
    {
      "cell_type": "code",
      "source": [
        "def train_model(dataloader, model, loss_fn, optimizer):\n",
        "    size = len(dataloader.dataset)\n",
        "    num_batches = len(dataloader)\n",
        "    model.train()\n",
        "    train_loss = 0\n",
        "    for X, y in dataloader:\n",
        "        X, y = X.to(device), y.to(device)\n",
        "        # Compute loss\n",
        "        pred = model(X)\n",
        "        loss = loss_fn(pred, y)\n",
        "        train_loss += loss.item()\n",
        "        # Backprop\n",
        "        optimizer.zero_grad()\n",
        "        loss.backward()\n",
        "        optimizer.step()\n",
        "    train_loss /= num_batches\n",
        "    return train_loss\n",
        "    # return loss.item() / size"
      ],
      "metadata": {
        "id": "Xhxb2yXbna9F"
      },
      "execution_count": 409,
      "outputs": []
    },
    {
      "cell_type": "code",
      "source": [
        "def val_model(dataloader, model, loss_fn):\n",
        "    size = len(dataloader.dataset)\n",
        "    num_batches = len(dataloader)\n",
        "    model.eval()\n",
        "    val_loss = 0\n",
        "    with torch.no_grad():\n",
        "        for X, y in dataloader:\n",
        "            X, y = X.to(device), y.to(device)\n",
        "            # Compute loss\n",
        "            pred = model(X)\n",
        "            val_loss += loss_fn(pred, y).item()\n",
        "    val_loss /= num_batches\n",
        "    return val_loss"
      ],
      "metadata": {
        "id": "BtxSWbkgnuPp"
      },
      "execution_count": 410,
      "outputs": []
    },
    {
      "cell_type": "code",
      "source": [
        "def plot_accuracy_per_epoch(accuracy_list, train_loss_list, val_loss_list):\n",
        "    fig, axs = plt.subplots(nrows=2, ncols=1, figsize = (6,8), sharex=True)\n",
        "    axs[0].plot(range(len(accuracy_list)), accuracy_list)\n",
        "    axs[1].plot(range(len(val_loss_list)), val_loss_list, label='Test loss')\n",
        "    axs[1].plot(range(len(train_loss_list)), train_loss_list, label='Train loss')\n",
        "    plt.subplots_adjust(hspace=0)\n",
        "    axs[1].set_xlabel(\"Epoch\")\n",
        "    axs[1].set_ylabel(\"Loss\")\n",
        "    axs[1].legend()\n",
        "    axs[0].set_ylabel(\"Accuracy\")\n",
        "\n",
        "def plot_loss_per_epoch(train_loss_list, val_loss_list):\n",
        "    fig, axs = plt.subplots(nrows=1, ncols=1, figsize = (6,4), sharex=True)\n",
        "    axs.plot(range(len(val_loss_list)), val_loss_list, label='Val loss')\n",
        "    axs.plot(range(len(train_loss_list)), train_loss_list, label='Train loss')\n",
        "    axs.set_xlabel(\"Epoch\")\n",
        "    axs.set_ylabel(\"Loss\")\n",
        "    axs.legend()\n"
      ],
      "metadata": {
        "id": "VkqeZg7RpmXY"
      },
      "execution_count": 370,
      "outputs": []
    },
    {
      "cell_type": "markdown",
      "source": [
        "In order not to overtrain my models, I will implement early stopping in my training loop. I'll use the [early-stopping-pytorch](https://github.com/Bjarten/early-stopping-pytorch) module."
      ],
      "metadata": {
        "id": "uY-z2VtP4vkR"
      }
    },
    {
      "cell_type": "code",
      "source": [
        "def train_and_val(train_loader, val_loader):\n",
        "    train_loss_list, val_loss_list = [], []\n",
        "    total_time = 0\n",
        "    early_stopping = early_stopping_pytorch.pytorchtools.EarlyStopping(patience=10, verbose=False)\n",
        "    for t in range(num_epochs):\n",
        "        t_start = time.time()\n",
        "        train_loss = train_model(train_loader, model, loss_fn, optimizer)\n",
        "        val_loss = val_model(val_loader, model, loss_fn)\n",
        "        train_loss_list.append(train_loss)\n",
        "        val_loss_list.append(val_loss)\n",
        "        epoch_time = time.time()-t_start\n",
        "        total_time += epoch_time\n",
        "        print(f\"Epoch {t+1:>3} --- Validation loss {val_loss:.5f} --- {epoch_time:.3f}s\")\n",
        "\n",
        "        early_stopping(val_loss, model)\n",
        "        if early_stopping.early_stop:\n",
        "            print(\"Early stopping\")\n",
        "            break\n",
        "\n",
        "    print(f\"Total training time: {total_time:.3f}s\")\n",
        "    return train_loss_list, val_loss_list"
      ],
      "metadata": {
        "id": "hml0xB94pySd"
      },
      "execution_count": 380,
      "outputs": []
    },
    {
      "cell_type": "code",
      "source": [
        "train_loss_list, val_loss_list = train_and_val(train_loader, val_loader)\n",
        "plot_loss_per_epoch(train_loss_list, val_loss_list)"
      ],
      "metadata": {
        "colab": {
          "base_uri": "https://localhost:8080/",
          "height": 804
        },
        "id": "5BuvTsWPrNrh",
        "outputId": "f46a90ab-bbf5-4dc4-8890-b681d9b73bce"
      },
      "execution_count": 415,
      "outputs": [
        {
          "output_type": "stream",
          "name": "stdout",
          "text": [
            "Epoch  1 --- Validation loss 9.22670 --- 0.676s\n",
            "Epoch  2 --- Validation loss 9.15008 --- 0.699s\n",
            "Epoch  3 --- Validation loss 9.09982 --- 0.695s\n",
            "Epoch  4 --- Validation loss 9.07121 --- 0.706s\n",
            "Epoch  5 --- Validation loss 9.05625 --- 0.724s\n",
            "Epoch  6 --- Validation loss 9.04972 --- 0.682s\n",
            "Epoch  7 --- Validation loss 9.04776 --- 0.688s\n",
            "Epoch  8 --- Validation loss 9.04762 --- 0.686s\n",
            "Epoch  9 --- Validation loss 9.04785 --- 0.684s\n",
            "EarlyStopping counter: 1 out of 10\n",
            "Epoch 10 --- Validation loss 9.05035 --- 0.690s\n",
            "EarlyStopping counter: 2 out of 10\n",
            "Epoch 11 --- Validation loss 9.05400 --- 0.691s\n",
            "EarlyStopping counter: 3 out of 10\n",
            "Epoch 12 --- Validation loss 9.05808 --- 0.689s\n",
            "EarlyStopping counter: 4 out of 10\n",
            "Epoch 13 --- Validation loss 9.06224 --- 0.690s\n",
            "EarlyStopping counter: 5 out of 10\n",
            "Epoch 14 --- Validation loss 9.06624 --- 0.677s\n",
            "EarlyStopping counter: 6 out of 10\n",
            "Epoch 15 --- Validation loss 9.07002 --- 0.713s\n",
            "EarlyStopping counter: 7 out of 10\n",
            "Epoch 16 --- Validation loss 9.07367 --- 0.659s\n",
            "EarlyStopping counter: 8 out of 10\n",
            "Epoch 17 --- Validation loss 9.07720 --- 0.664s\n",
            "EarlyStopping counter: 9 out of 10\n",
            "Epoch 18 --- Validation loss 9.08059 --- 0.672s\n",
            "EarlyStopping counter: 10 out of 10\n",
            "Early stopping\n",
            "Total training time: 12.386s\n"
          ]
        },
        {
          "output_type": "display_data",
          "data": {
            "text/plain": [
              "<Figure size 432x288 with 1 Axes>"
            ],
            "image/png": "[encoded data removed]"
          },
          "metadata": {}
        }
      ]
    },
    {
      "cell_type": "markdown",
      "source": [
        "## 3.3 Evaluating the model\n",
        "\n",
        "Now we have to evaluate the model. This can be tricky because of the dataset's nature. Firstly, since the dataset is extremely unbalanced, just predicting the most common tag every time (drama) would yield a decent accuracy. We obviously want to train a better model than this, and as such have to use different metrics. Firstly, I will use the F1-score. Since the data is unbalanced, the macro F1 score has to be used, as the micro F1 score would not count for the long tail of the tag distribution. To compare models I will also use the ROC curve and AUC. Secondly, since the dataset is multi-labelled, we have to take the mean of the results of these scores for all tags."
      ],
      "metadata": {
        "id": "MmFlpODJGSfK"
      }
    },
    {
      "cell_type": "code",
      "source": [
        "from sklearn.metrics import f1_score\n",
        "\n",
        "with torch.no_grad():\n",
        "    pred = model(torch.tensor(X_val, dtype=torch.float32).to(device))\n",
        "\n",
        "y_pred = np.rint(pred.detach().cpu().numpy())\n",
        "y_true = y_val#.detach().cpu().numpy()\n",
        "\n",
        "\n",
        "f1score = f1_score(y_true, y_pred, average='weighted') # average='weighted' yields macro f1 score, taking weighted average of all labels\n",
        "f1score"
      ],
      "metadata": {
        "colab": {
          "base_uri": "https://localhost:8080/"
        },
        "id": "Ws6ToFK9rev9",
        "outputId": "62841ddd-2d01-419c-8a27-eb6658048592"
      },
      "execution_count": 416,
      "outputs": [
        {
          "output_type": "execute_result",
          "data": {
            "text/plain": [
              "0.2763226505281892"
            ]
          },
          "metadata": {},
          "execution_count": 416
        }
      ]
    },
    {
      "cell_type": "markdown",
      "source": [
        "128 -> 0.27031307607737237\n",
        "\n",
        "1024 -> 0.2696908553214005\n",
        "\n",
        "32 -> 0.2736664856760335 (1e-2)\n",
        "\n",
        "16 -> 0.2747710095079293\n",
        "\n",
        "8 -> 0.2754668394040625\n",
        "\n"
      ],
      "metadata": {
        "id": "J2hPoW5KKZJ3"
      }
    },
    {
      "cell_type": "markdown",
      "source": [
        "## 3.4 Training same model on lemmatized data\n",
        "\n",
        "Now we will test which of the two cleaning methods is better"
      ],
      "metadata": {
        "id": "bxFt7RHqO54P"
      }
    },
    {
      "cell_type": "code",
      "source": [
        "X_train = clean_text(X_train_complete, 'lemmatization')\n",
        "X_val = clean_text(X_val_complete, 'lemmatization')"
      ],
      "metadata": {
        "id": "rYqjSv4vD7fR"
      },
      "execution_count": 417,
      "outputs": []
    },
    {
      "cell_type": "code",
      "source": [
        "tfidf_vectorizer = TfidfVectorizer(max_features=tfidf_features)\n",
        "\n",
        "tfidf_vectorizer.fit(X_train)\n",
        "\n",
        "X_train = tfidf_vectorizer.transform(X_train).toarray()\n",
        "X_val = tfidf_vectorizer.transform(X_val).toarray()"
      ],
      "metadata": {
        "id": "6o2q5gQYPqFj"
      },
      "execution_count": 418,
      "outputs": []
    },
    {
      "cell_type": "code",
      "source": [
        "# Model hyperparameters\n",
        "batch_size = 8\n",
        "num_epochs = 150\n",
        "learning_rate = 1e-2"
      ],
      "metadata": {
        "id": "oMow3Lb2QAhj"
      },
      "execution_count": 419,
      "outputs": []
    },
    {
      "cell_type": "code",
      "source": [
        "# Same model, loss and optimizer as before\n",
        "model = SingleLayerNetwork(tfidf_features, total_tags).to(device)\n",
        "print(model)\n",
        "\n",
        "loss_fn = nn.CrossEntropyLoss()\n",
        "optimizer = torch.optim.Adam(model.parameters(), lr=learning_rate)\n",
        "\n",
        "train_dataset = TensorDataset(\n",
        "    torch.tensor(X_train, dtype=torch.float32),\n",
        "    torch.tensor(y_train, dtype=torch.float32),\n",
        ")\n",
        "train_loader = DataLoader(train_dataset, batch_size=batch_size)\n",
        "\n",
        "val_dataset = TensorDataset(\n",
        "    torch.tensor(X_val, dtype=torch.float32),\n",
        "    torch.tensor(y_val, dtype=torch.float32),\n",
        ")\n",
        "val_loader = DataLoader(val_dataset, batch_size=batch_size)"
      ],
      "metadata": {
        "colab": {
          "base_uri": "https://localhost:8080/"
        },
        "id": "PPvhVIO2Pp1a",
        "outputId": "23b17695-a257-46a3-d42d-148fdc14f94d"
      },
      "execution_count": 420,
      "outputs": [
        {
          "output_type": "stream",
          "name": "stdout",
          "text": [
            "SingleLayerNetwork(\n",
            "  (net_stack): Sequential(\n",
            "    (0): Linear(in_features=750, out_features=85, bias=True)\n",
            "    (1): Sigmoid()\n",
            "  )\n",
            ")\n"
          ]
        }
      ]
    },
    {
      "cell_type": "code",
      "source": [
        "train_loss_list, val_loss_list = train_and_val(train_loader, val_loader)\n",
        "plot_loss_per_epoch(train_loss_list, val_loss_list)"
      ],
      "metadata": {
        "colab": {
          "base_uri": "https://localhost:8080/",
          "height": 804
        },
        "id": "GxPCT14dQUmB",
        "outputId": "3962d0bf-8922-42ba-8916-509d7a165b0b"
      },
      "execution_count": 421,
      "outputs": [
        {
          "output_type": "stream",
          "name": "stdout",
          "text": [
            "Epoch  1 --- Validation loss 9.22653 --- 0.692s\n",
            "Epoch  2 --- Validation loss 9.14983 --- 0.688s\n",
            "Epoch  3 --- Validation loss 9.09974 --- 0.692s\n",
            "Epoch  4 --- Validation loss 9.07131 --- 0.733s\n",
            "Epoch  5 --- Validation loss 9.05639 --- 0.700s\n",
            "Epoch  6 --- Validation loss 9.04980 --- 0.702s\n",
            "Epoch  7 --- Validation loss 9.04776 --- 0.730s\n",
            "Epoch  8 --- Validation loss 9.04773 --- 0.704s\n",
            "Epoch  9 --- Validation loss 9.04791 --- 0.704s\n",
            "EarlyStopping counter: 1 out of 10\n",
            "Epoch 10 --- Validation loss 9.05042 --- 0.718s\n",
            "EarlyStopping counter: 2 out of 10\n",
            "Epoch 11 --- Validation loss 9.05409 --- 0.703s\n",
            "EarlyStopping counter: 3 out of 10\n",
            "Epoch 12 --- Validation loss 9.05809 --- 0.774s\n",
            "EarlyStopping counter: 4 out of 10\n",
            "Epoch 13 --- Validation loss 9.06210 --- 0.797s\n",
            "EarlyStopping counter: 5 out of 10\n",
            "Epoch 14 --- Validation loss 9.06600 --- 0.856s\n",
            "EarlyStopping counter: 6 out of 10\n",
            "Epoch 15 --- Validation loss 9.06979 --- 0.710s\n",
            "EarlyStopping counter: 7 out of 10\n",
            "Epoch 16 --- Validation loss 9.07348 --- 0.681s\n",
            "EarlyStopping counter: 8 out of 10\n",
            "Epoch 17 --- Validation loss 9.07707 --- 0.676s\n",
            "EarlyStopping counter: 9 out of 10\n",
            "Epoch 18 --- Validation loss 9.08054 --- 0.691s\n",
            "EarlyStopping counter: 10 out of 10\n",
            "Early stopping\n",
            "Total training time: 12.951s\n"
          ]
        },
        {
          "output_type": "display_data",
          "data": {
            "text/plain": [
              "<Figure size 432x288 with 1 Axes>"
            ],
            "image/png": "[encoded data removed]"
          },
          "metadata": {}
        }
      ]
    },
    {
      "cell_type": "code",
      "source": [
        "with torch.no_grad():\n",
        "    pred = model(torch.tensor(X_val, dtype=torch.float32).to(device))\n",
        "\n",
        "y_pred = np.rint(pred.detach().cpu().numpy())\n",
        "y_true = y_val#.detach().cpu().numpy()\n",
        "\n",
        "\n",
        "f1score = f1_score(y_true, y_pred, average='weighted') # average='weighted' yields macro f1 score, taking weighted average of all labels\n",
        "f1score"
      ],
      "metadata": {
        "colab": {
          "base_uri": "https://localhost:8080/"
        },
        "id": "cWf61JY9XJJN",
        "outputId": "34142690-384e-4aa2-f6b4-1f7946d925e0"
      },
      "execution_count": 422,
      "outputs": [
        {
          "output_type": "execute_result",
          "data": {
            "text/plain": [
              "0.2761468100151409"
            ]
          },
          "metadata": {},
          "execution_count": 422
        }
      ]
    },
    {
      "cell_type": "code",
      "source": [],
      "metadata": {
        "id": "XALKa-HaOlDM"
      },
      "execution_count": 379,
      "outputs": []
    }
  ]
}