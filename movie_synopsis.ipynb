{
  "nbformat": 4,
  "nbformat_minor": 0,
  "metadata": {
    "colab": {
      "provenance": [],
      "authorship_tag": "ABX9TyPZz+jZbChwuKRKE+TVL5r7",
      "include_colab_link": true
    },
    "kernelspec": {
      "name": "python3",
      "display_name": "Python 3"
    },
    "language_info": {
      "name": "python"
    }
  },
  "cells": [
    {
      "cell_type": "markdown",
      "metadata": {
        "id": "view-in-github",
        "colab_type": "text"
      },
      "source": [
        "<a href=\"https://colab.research.google.com/github/sancholp/movie_tagging/blob/main/movie_synopsis.ipynb\" target=\"_parent\"><img src=\"https://colab.research.google.com/assets/colab-badge.svg\" alt=\"Open In Colab\"/></a>"
      ]
    },
    {
      "cell_type": "code",
      "execution_count": null,
      "metadata": {
        "id": "BPKBwOhB6RKR"
      },
      "outputs": [],
      "source": [
        "import pandas as pd\n",
        "import ast"
      ]
    },
    {
      "cell_type": "code",
      "source": [
        "raw_data = pd.read_csv(\"sancho_data.csv\", sep=',', header=0, usecols=[1,2,3])"
      ],
      "metadata": {
        "id": "sA_V4Cqs6TNr"
      },
      "execution_count": null,
      "outputs": []
    },
    {
      "cell_type": "code",
      "source": [
        "raw_data.head()"
      ],
      "metadata": {
        "id": "STHV10mU6Xi5",
        "colab": {
          "base_uri": "https://localhost:8080/",
          "height": 206
        },
        "outputId": "9707f870-ef4a-4403-e5ae-e803b84e8f50"
      },
      "execution_count": null,
      "outputs": [
        {
          "output_type": "execute_result",
          "data": {
            "text/plain": [
              "     imdb_id                  tags  \\\n",
              "0  tt0000027       ['documentary']   \n",
              "1  tt0000575  ['pirates', 'scifi']   \n",
              "2  tt0000642             ['drama']   \n",
              "3  tt0000650             ['drama']   \n",
              "4  tt0000720             ['drama']   \n",
              "\n",
              "                                                plot  \n",
              "0  A stationary camera looks across the boulevard...  \n",
              "1  Undersea adventures in a submarine by a dreami...  \n",
              "2  The Outwitting of an Andalusian Brigand by a P...  \n",
              "3  Before the storm. Epoch-making days. Liberty s...  \n",
              "4  John and Tom Wilkins are brothers and most div...  "
            ],
            "text/html": [
              "\n",
              "  <div id=\"df-e356cdf3-2d16-4085-9dac-411c55d1e973\">\n",
              "    <div class=\"colab-df-container\">\n",
              "      <div>\n",
              "<style scoped>\n",
              "    .dataframe tbody tr th:only-of-type {\n",
              "        vertical-align: middle;\n",
              "    }\n",
              "\n",
              "    .dataframe tbody tr th {\n",
              "        vertical-align: top;\n",
              "    }\n",
              "\n",
              "    .dataframe thead th {\n",
              "        text-align: right;\n",
              "    }\n",
              "</style>\n",
              "<table border=\"1\" class=\"dataframe\">\n",
              "  <thead>\n",
              "    <tr style=\"text-align: right;\">\n",
              "      <th></th>\n",
              "      <th>imdb_id</th>\n",
              "      <th>tags</th>\n",
              "      <th>plot</th>\n",
              "    </tr>\n",
              "  </thead>\n",
              "  <tbody>\n",
              "    <tr>\n",
              "      <th>0</th>\n",
              "      <td>tt0000027</td>\n",
              "      <td>['documentary']</td>\n",
              "      <td>A stationary camera looks across the boulevard...</td>\n",
              "    </tr>\n",
              "    <tr>\n",
              "      <th>1</th>\n",
              "      <td>tt0000575</td>\n",
              "      <td>['pirates', 'scifi']</td>\n",
              "      <td>Undersea adventures in a submarine by a dreami...</td>\n",
              "    </tr>\n",
              "    <tr>\n",
              "      <th>2</th>\n",
              "      <td>tt0000642</td>\n",
              "      <td>['drama']</td>\n",
              "      <td>The Outwitting of an Andalusian Brigand by a P...</td>\n",
              "    </tr>\n",
              "    <tr>\n",
              "      <th>3</th>\n",
              "      <td>tt0000650</td>\n",
              "      <td>['drama']</td>\n",
              "      <td>Before the storm. Epoch-making days. Liberty s...</td>\n",
              "    </tr>\n",
              "    <tr>\n",
              "      <th>4</th>\n",
              "      <td>tt0000720</td>\n",
              "      <td>['drama']</td>\n",
              "      <td>John and Tom Wilkins are brothers and most div...</td>\n",
              "    </tr>\n",
              "  </tbody>\n",
              "</table>\n",
              "</div>\n",
              "      <button class=\"colab-df-convert\" onclick=\"convertToInteractive('df-e356cdf3-2d16-4085-9dac-411c55d1e973')\"\n",
              "              title=\"Convert this dataframe to an interactive table.\"\n",
              "              style=\"display:none;\">\n",
              "        \n",
              "  <svg xmlns=\"http://www.w3.org/2000/svg\" height=\"24px\"viewBox=\"0 0 24 24\"\n",
              "       width=\"24px\">\n",
              "    <path d=\"M0 0h24v24H0V0z\" fill=\"none\"/>\n",
              "    <path d=\"M18.56 5.44l.94 2.06.94-2.06 2.06-.94-2.06-.94-.94-2.06-.94 2.06-2.06.94zm-11 1L8.5 8.5l.94-2.06 2.06-.94-2.06-.94L8.5 2.5l-.94 2.06-2.06.94zm10 10l.94 2.06.94-2.06 2.06-.94-2.06-.94-.94-2.06-.94 2.06-2.06.94z\"/><path d=\"M17.41 7.96l-1.37-1.37c-.4-.4-.92-.59-1.43-.59-.52 0-1.04.2-1.43.59L10.3 9.45l-7.72 7.72c-.78.78-.78 2.05 0 2.83L4 21.41c.39.39.9.59 1.41.59.51 0 1.02-.2 1.41-.59l7.78-7.78 2.81-2.81c.8-.78.8-2.07 0-2.86zM5.41 20L4 18.59l7.72-7.72 1.47 1.35L5.41 20z\"/>\n",
              "  </svg>\n",
              "      </button>\n",
              "      \n",
              "  <style>\n",
              "    .colab-df-container {\n",
              "      display:flex;\n",
              "      flex-wrap:wrap;\n",
              "      gap: 12px;\n",
              "    }\n",
              "\n",
              "    .colab-df-convert {\n",
              "      background-color: #E8F0FE;\n",
              "      border: none;\n",
              "      border-radius: 50%;\n",
              "      cursor: pointer;\n",
              "      display: none;\n",
              "      fill: #1967D2;\n",
              "      height: 32px;\n",
              "      padding: 0 0 0 0;\n",
              "      width: 32px;\n",
              "    }\n",
              "\n",
              "    .colab-df-convert:hover {\n",
              "      background-color: #E2EBFA;\n",
              "      box-shadow: 0px 1px 2px rgba(60, 64, 67, 0.3), 0px 1px 3px 1px rgba(60, 64, 67, 0.15);\n",
              "      fill: #174EA6;\n",
              "    }\n",
              "\n",
              "    [theme=dark] .colab-df-convert {\n",
              "      background-color: #3B4455;\n",
              "      fill: #D2E3FC;\n",
              "    }\n",
              "\n",
              "    [theme=dark] .colab-df-convert:hover {\n",
              "      background-color: #434B5C;\n",
              "      box-shadow: 0px 1px 3px 1px rgba(0, 0, 0, 0.15);\n",
              "      filter: drop-shadow(0px 1px 2px rgba(0, 0, 0, 0.3));\n",
              "      fill: #FFFFFF;\n",
              "    }\n",
              "  </style>\n",
              "\n",
              "      <script>\n",
              "        const buttonEl =\n",
              "          document.querySelector('#df-e356cdf3-2d16-4085-9dac-411c55d1e973 button.colab-df-convert');\n",
              "        buttonEl.style.display =\n",
              "          google.colab.kernel.accessAllowed ? 'block' : 'none';\n",
              "\n",
              "        async function convertToInteractive(key) {\n",
              "          const element = document.querySelector('#df-e356cdf3-2d16-4085-9dac-411c55d1e973');\n",
              "          const dataTable =\n",
              "            await google.colab.kernel.invokeFunction('convertToInteractive',\n",
              "                                                     [key], {});\n",
              "          if (!dataTable) return;\n",
              "\n",
              "          const docLinkHtml = 'Like what you see? Visit the ' +\n",
              "            '<a target=\"_blank\" href=https://colab.research.google.com/notebooks/data_table.ipynb>data table notebook</a>'\n",
              "            + ' to learn more about interactive tables.';\n",
              "          element.innerHTML = '';\n",
              "          dataTable['output_type'] = 'display_data';\n",
              "          await google.colab.output.renderOutput(dataTable, element);\n",
              "          const docLink = document.createElement('div');\n",
              "          docLink.innerHTML = docLinkHtml;\n",
              "          element.appendChild(docLink);\n",
              "        }\n",
              "      </script>\n",
              "    </div>\n",
              "  </div>\n",
              "  "
            ]
          },
          "metadata": {},
          "execution_count": 17
        }
      ]
    },
    {
      "cell_type": "code",
      "source": [
        "tags = raw_data[\"tags\"]"
      ],
      "metadata": {
        "id": "olE2Tb7n8qBS"
      },
      "execution_count": null,
      "outputs": []
    },
    {
      "cell_type": "code",
      "source": [
        "all_tags = []\n",
        "for tags_str in tags:\n",
        "    tags_list = ast.literal_eval(tags_str)\n",
        "    for tag in tags_list:\n",
        "        if tag not in all_tags: all_tags.append(tag)\n",
        "\n",
        "print(all_tags)\n",
        "print(len(all_tags))"
      ],
      "metadata": {
        "colab": {
          "base_uri": "https://localhost:8080/"
        },
        "id": "bgt7QOZY85Ge",
        "outputId": "f7d7a88b-efb0-414a-954e-74ffc1476544"
      },
      "execution_count": null,
      "outputs": [
        {
          "output_type": "stream",
          "name": "stdout",
          "text": [
            "['documentary', 'pirates', 'scifi', 'drama', 'western', 'fantasy', 'melodrama', 'comedy', 'disaster_movie', 'romantic', 'horror', 'crime', 'wartime', 'mystery', 'adventure', 'LGBT', 'romantic_comedy', 'biopic', 'comedy_drama', 'action', 'thriller', 'sport', 'murder', 'chase', 'vampires', 'monsters', 'dystopic', 'aviation', 'war', 'espionage', 'musical', 'surreal', 'prostitution', 'love', 'animation', 'serial_killer', 'death_penalty', 'noir', 'police_investigation', 'suspenseful', 'sexual', 'creepy', 'prison', 'bank_robbery', 'magic', 'small_town', 'history', 'gunfight', 'cartoon', 'children', 'friendship', 'time_travel', 'inbreeding', 'alcohol_addiction', 'space', 'justice', 'horror_comedy', 'true_story', 'parenthood', 'loneliness', 'politics', 'futuristic', 'music', 'alien', 'supernatural', 'zombies', 'religion', 'revenge', 'cult', 'neo-noir', 'family', 'death', 'splatter', 'teen_movie', 'violence', 'nudity', 'terrorism', 'action_comedies', 'pornography', 'coming_of_age', 'erotic_thriller', 'martial_arts', 'fight_scenes', 'high_school', 'super_hero']\n",
            "85\n"
          ]
        }
      ]
    },
    {
      "cell_type": "code",
      "source": [],
      "metadata": {
        "id": "iPDmPG_a-gow"
      },
      "execution_count": null,
      "outputs": []
    }
  ]
}