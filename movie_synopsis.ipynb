{
  "nbformat": 4,
  "nbformat_minor": 0,
  "metadata": {
    "colab": {
      "provenance": [],
      "authorship_tag": "ABX9TyNP5yd+nYjUO0rZRz9EIB1M"
    },
    "kernelspec": {
      "name": "python3",
      "display_name": "Python 3"
    },
    "language_info": {
      "name": "python"
    }
  },
  "cells": [
    {
      "cell_type": "markdown",
      "source": [
        "# Tagging a movie based on its plot synopsis\n",
        "\n",
        "In this project, I intend to create a model which, when fed a synopsis of a movie's plot, will assign it tags, as done on [IMDb](https://www.imdb.com/).\n",
        "\n",
        "For this purpose, I will be using a dataset of ~6000 movie summaries, with assigned tags to them. These tags are mutually exclusive, leading to a multi-label classification problem.\n",
        "\n",
        "## 0. Importing necessary libraries and loading in dataset"
      ],
      "metadata": {
        "id": "h2HfkI3-ewL0"
      }
    },
    {
      "cell_type": "code",
      "execution_count": 238,
      "metadata": {
        "id": "BPKBwOhB6RKR"
      },
      "outputs": [],
      "source": [
        "import pandas as pd\n",
        "import numpy as np\n",
        "import matplotlib.pyplot as plt\n",
        "import ast\n",
        "\n",
        "plt.style.use('ggplot')"
      ]
    },
    {
      "cell_type": "code",
      "source": [
        "raw_data = pd.read_csv(\"movie_plots.csv\", sep=',', header=0, usecols=[2,3])\n",
        "raw_data"
      ],
      "metadata": {
        "id": "sA_V4Cqs6TNr",
        "colab": {
          "base_uri": "https://localhost:8080/",
          "height": 424
        },
        "outputId": "d1c31436-60aa-46ee-e816-614e53e7a67c"
      },
      "execution_count": 164,
      "outputs": [
        {
          "output_type": "execute_result",
          "data": {
            "text/plain": [
              "                        tags  \\\n",
              "0            ['documentary']   \n",
              "1       ['pirates', 'scifi']   \n",
              "2                  ['drama']   \n",
              "3                  ['drama']   \n",
              "4                  ['drama']   \n",
              "...                      ...   \n",
              "5590  ['politics', 'biopic']   \n",
              "5591          ['super_hero']   \n",
              "5592             ['musical']   \n",
              "5593  ['politics', 'comedy']   \n",
              "5594         ['documentary']   \n",
              "\n",
              "                                                   plot  \n",
              "0     A stationary camera looks across the boulevard...  \n",
              "1     Undersea adventures in a submarine by a dreami...  \n",
              "2     The Outwitting of an Andalusian Brigand by a P...  \n",
              "3     Before the storm. Epoch-making days. Liberty s...  \n",
              "4     John and Tom Wilkins are brothers and most div...  \n",
              "...                                                 ...  \n",
              "5590  November 22, 1963. President John F. Kennedy h...  \n",
              "5591  Melvin, a reluctant Superhero, lives only for ...  \n",
              "5592  One dark night, at water's edge, a family of m...  \n",
              "5593  Three minutes in to her set, Amy Schumer claim...  \n",
              "5594  With more board configurations than there are ...  \n",
              "\n",
              "[5595 rows x 2 columns]"
            ],
            "text/html": [
              "\n",
              "  <div id=\"df-651af814-f467-4007-a4f6-3c8b175d08a3\">\n",
              "    <div class=\"colab-df-container\">\n",
              "      <div>\n",
              "<style scoped>\n",
              "    .dataframe tbody tr th:only-of-type {\n",
              "        vertical-align: middle;\n",
              "    }\n",
              "\n",
              "    .dataframe tbody tr th {\n",
              "        vertical-align: top;\n",
              "    }\n",
              "\n",
              "    .dataframe thead th {\n",
              "        text-align: right;\n",
              "    }\n",
              "</style>\n",
              "<table border=\"1\" class=\"dataframe\">\n",
              "  <thead>\n",
              "    <tr style=\"text-align: right;\">\n",
              "      <th></th>\n",
              "      <th>tags</th>\n",
              "      <th>plot</th>\n",
              "    </tr>\n",
              "  </thead>\n",
              "  <tbody>\n",
              "    <tr>\n",
              "      <th>0</th>\n",
              "      <td>['documentary']</td>\n",
              "      <td>A stationary camera looks across the boulevard...</td>\n",
              "    </tr>\n",
              "    <tr>\n",
              "      <th>1</th>\n",
              "      <td>['pirates', 'scifi']</td>\n",
              "      <td>Undersea adventures in a submarine by a dreami...</td>\n",
              "    </tr>\n",
              "    <tr>\n",
              "      <th>2</th>\n",
              "      <td>['drama']</td>\n",
              "      <td>The Outwitting of an Andalusian Brigand by a P...</td>\n",
              "    </tr>\n",
              "    <tr>\n",
              "      <th>3</th>\n",
              "      <td>['drama']</td>\n",
              "      <td>Before the storm. Epoch-making days. Liberty s...</td>\n",
              "    </tr>\n",
              "    <tr>\n",
              "      <th>4</th>\n",
              "      <td>['drama']</td>\n",
              "      <td>John and Tom Wilkins are brothers and most div...</td>\n",
              "    </tr>\n",
              "    <tr>\n",
              "      <th>...</th>\n",
              "      <td>...</td>\n",
              "      <td>...</td>\n",
              "    </tr>\n",
              "    <tr>\n",
              "      <th>5590</th>\n",
              "      <td>['politics', 'biopic']</td>\n",
              "      <td>November 22, 1963. President John F. Kennedy h...</td>\n",
              "    </tr>\n",
              "    <tr>\n",
              "      <th>5591</th>\n",
              "      <td>['super_hero']</td>\n",
              "      <td>Melvin, a reluctant Superhero, lives only for ...</td>\n",
              "    </tr>\n",
              "    <tr>\n",
              "      <th>5592</th>\n",
              "      <td>['musical']</td>\n",
              "      <td>One dark night, at water's edge, a family of m...</td>\n",
              "    </tr>\n",
              "    <tr>\n",
              "      <th>5593</th>\n",
              "      <td>['politics', 'comedy']</td>\n",
              "      <td>Three minutes in to her set, Amy Schumer claim...</td>\n",
              "    </tr>\n",
              "    <tr>\n",
              "      <th>5594</th>\n",
              "      <td>['documentary']</td>\n",
              "      <td>With more board configurations than there are ...</td>\n",
              "    </tr>\n",
              "  </tbody>\n",
              "</table>\n",
              "<p>5595 rows × 2 columns</p>\n",
              "</div>\n",
              "      <button class=\"colab-df-convert\" onclick=\"convertToInteractive('df-651af814-f467-4007-a4f6-3c8b175d08a3')\"\n",
              "              title=\"Convert this dataframe to an interactive table.\"\n",
              "              style=\"display:none;\">\n",
              "        \n",
              "  <svg xmlns=\"http://www.w3.org/2000/svg\" height=\"24px\"viewBox=\"0 0 24 24\"\n",
              "       width=\"24px\">\n",
              "    <path d=\"M0 0h24v24H0V0z\" fill=\"none\"/>\n",
              "    <path d=\"M18.56 5.44l.94 2.06.94-2.06 2.06-.94-2.06-.94-.94-2.06-.94 2.06-2.06.94zm-11 1L8.5 8.5l.94-2.06 2.06-.94-2.06-.94L8.5 2.5l-.94 2.06-2.06.94zm10 10l.94 2.06.94-2.06 2.06-.94-2.06-.94-.94-2.06-.94 2.06-2.06.94z\"/><path d=\"M17.41 7.96l-1.37-1.37c-.4-.4-.92-.59-1.43-.59-.52 0-1.04.2-1.43.59L10.3 9.45l-7.72 7.72c-.78.78-.78 2.05 0 2.83L4 21.41c.39.39.9.59 1.41.59.51 0 1.02-.2 1.41-.59l7.78-7.78 2.81-2.81c.8-.78.8-2.07 0-2.86zM5.41 20L4 18.59l7.72-7.72 1.47 1.35L5.41 20z\"/>\n",
              "  </svg>\n",
              "      </button>\n",
              "      \n",
              "  <style>\n",
              "    .colab-df-container {\n",
              "      display:flex;\n",
              "      flex-wrap:wrap;\n",
              "      gap: 12px;\n",
              "    }\n",
              "\n",
              "    .colab-df-convert {\n",
              "      background-color: #E8F0FE;\n",
              "      border: none;\n",
              "      border-radius: 50%;\n",
              "      cursor: pointer;\n",
              "      display: none;\n",
              "      fill: #1967D2;\n",
              "      height: 32px;\n",
              "      padding: 0 0 0 0;\n",
              "      width: 32px;\n",
              "    }\n",
              "\n",
              "    .colab-df-convert:hover {\n",
              "      background-color: #E2EBFA;\n",
              "      box-shadow: 0px 1px 2px rgba(60, 64, 67, 0.3), 0px 1px 3px 1px rgba(60, 64, 67, 0.15);\n",
              "      fill: #174EA6;\n",
              "    }\n",
              "\n",
              "    [theme=dark] .colab-df-convert {\n",
              "      background-color: #3B4455;\n",
              "      fill: #D2E3FC;\n",
              "    }\n",
              "\n",
              "    [theme=dark] .colab-df-convert:hover {\n",
              "      background-color: #434B5C;\n",
              "      box-shadow: 0px 1px 3px 1px rgba(0, 0, 0, 0.15);\n",
              "      filter: drop-shadow(0px 1px 2px rgba(0, 0, 0, 0.3));\n",
              "      fill: #FFFFFF;\n",
              "    }\n",
              "  </style>\n",
              "\n",
              "      <script>\n",
              "        const buttonEl =\n",
              "          document.querySelector('#df-651af814-f467-4007-a4f6-3c8b175d08a3 button.colab-df-convert');\n",
              "        buttonEl.style.display =\n",
              "          google.colab.kernel.accessAllowed ? 'block' : 'none';\n",
              "\n",
              "        async function convertToInteractive(key) {\n",
              "          const element = document.querySelector('#df-651af814-f467-4007-a4f6-3c8b175d08a3');\n",
              "          const dataTable =\n",
              "            await google.colab.kernel.invokeFunction('convertToInteractive',\n",
              "                                                     [key], {});\n",
              "          if (!dataTable) return;\n",
              "\n",
              "          const docLinkHtml = 'Like what you see? Visit the ' +\n",
              "            '<a target=\"_blank\" href=https://colab.research.google.com/notebooks/data_table.ipynb>data table notebook</a>'\n",
              "            + ' to learn more about interactive tables.';\n",
              "          element.innerHTML = '';\n",
              "          dataTable['output_type'] = 'display_data';\n",
              "          await google.colab.output.renderOutput(dataTable, element);\n",
              "          const docLink = document.createElement('div');\n",
              "          docLink.innerHTML = docLinkHtml;\n",
              "          element.appendChild(docLink);\n",
              "        }\n",
              "      </script>\n",
              "    </div>\n",
              "  </div>\n",
              "  "
            ]
          },
          "metadata": {},
          "execution_count": 164
        }
      ]
    },
    {
      "cell_type": "code",
      "source": [
        "# Replacing tags:String to tags:List[String]\n",
        "list_tags = []\n",
        "for tag in raw_data[\"tags\"]:\n",
        "    tag = ast.literal_eval(tag)\n",
        "    list_tags.append(tag)\n",
        "\n",
        "raw_data[\"tags\"] = list_tags\n",
        "raw_data"
      ],
      "metadata": {
        "id": "olE2Tb7n8qBS",
        "colab": {
          "base_uri": "https://localhost:8080/",
          "height": 424
        },
        "outputId": "5198519d-f83f-4a26-9ee1-f3b99d3562e8"
      },
      "execution_count": 165,
      "outputs": [
        {
          "output_type": "execute_result",
          "data": {
            "text/plain": [
              "                    tags                                               plot\n",
              "0          [documentary]  A stationary camera looks across the boulevard...\n",
              "1       [pirates, scifi]  Undersea adventures in a submarine by a dreami...\n",
              "2                [drama]  The Outwitting of an Andalusian Brigand by a P...\n",
              "3                [drama]  Before the storm. Epoch-making days. Liberty s...\n",
              "4                [drama]  John and Tom Wilkins are brothers and most div...\n",
              "...                  ...                                                ...\n",
              "5590  [politics, biopic]  November 22, 1963. President John F. Kennedy h...\n",
              "5591        [super_hero]  Melvin, a reluctant Superhero, lives only for ...\n",
              "5592           [musical]  One dark night, at water's edge, a family of m...\n",
              "5593  [politics, comedy]  Three minutes in to her set, Amy Schumer claim...\n",
              "5594       [documentary]  With more board configurations than there are ...\n",
              "\n",
              "[5595 rows x 2 columns]"
            ],
            "text/html": [
              "\n",
              "  <div id=\"df-a930e42a-4c36-4878-a1df-54ec5666d892\">\n",
              "    <div class=\"colab-df-container\">\n",
              "      <div>\n",
              "<style scoped>\n",
              "    .dataframe tbody tr th:only-of-type {\n",
              "        vertical-align: middle;\n",
              "    }\n",
              "\n",
              "    .dataframe tbody tr th {\n",
              "        vertical-align: top;\n",
              "    }\n",
              "\n",
              "    .dataframe thead th {\n",
              "        text-align: right;\n",
              "    }\n",
              "</style>\n",
              "<table border=\"1\" class=\"dataframe\">\n",
              "  <thead>\n",
              "    <tr style=\"text-align: right;\">\n",
              "      <th></th>\n",
              "      <th>tags</th>\n",
              "      <th>plot</th>\n",
              "    </tr>\n",
              "  </thead>\n",
              "  <tbody>\n",
              "    <tr>\n",
              "      <th>0</th>\n",
              "      <td>[documentary]</td>\n",
              "      <td>A stationary camera looks across the boulevard...</td>\n",
              "    </tr>\n",
              "    <tr>\n",
              "      <th>1</th>\n",
              "      <td>[pirates, scifi]</td>\n",
              "      <td>Undersea adventures in a submarine by a dreami...</td>\n",
              "    </tr>\n",
              "    <tr>\n",
              "      <th>2</th>\n",
              "      <td>[drama]</td>\n",
              "      <td>The Outwitting of an Andalusian Brigand by a P...</td>\n",
              "    </tr>\n",
              "    <tr>\n",
              "      <th>3</th>\n",
              "      <td>[drama]</td>\n",
              "      <td>Before the storm. Epoch-making days. Liberty s...</td>\n",
              "    </tr>\n",
              "    <tr>\n",
              "      <th>4</th>\n",
              "      <td>[drama]</td>\n",
              "      <td>John and Tom Wilkins are brothers and most div...</td>\n",
              "    </tr>\n",
              "    <tr>\n",
              "      <th>...</th>\n",
              "      <td>...</td>\n",
              "      <td>...</td>\n",
              "    </tr>\n",
              "    <tr>\n",
              "      <th>5590</th>\n",
              "      <td>[politics, biopic]</td>\n",
              "      <td>November 22, 1963. President John F. Kennedy h...</td>\n",
              "    </tr>\n",
              "    <tr>\n",
              "      <th>5591</th>\n",
              "      <td>[super_hero]</td>\n",
              "      <td>Melvin, a reluctant Superhero, lives only for ...</td>\n",
              "    </tr>\n",
              "    <tr>\n",
              "      <th>5592</th>\n",
              "      <td>[musical]</td>\n",
              "      <td>One dark night, at water's edge, a family of m...</td>\n",
              "    </tr>\n",
              "    <tr>\n",
              "      <th>5593</th>\n",
              "      <td>[politics, comedy]</td>\n",
              "      <td>Three minutes in to her set, Amy Schumer claim...</td>\n",
              "    </tr>\n",
              "    <tr>\n",
              "      <th>5594</th>\n",
              "      <td>[documentary]</td>\n",
              "      <td>With more board configurations than there are ...</td>\n",
              "    </tr>\n",
              "  </tbody>\n",
              "</table>\n",
              "<p>5595 rows × 2 columns</p>\n",
              "</div>\n",
              "      <button class=\"colab-df-convert\" onclick=\"convertToInteractive('df-a930e42a-4c36-4878-a1df-54ec5666d892')\"\n",
              "              title=\"Convert this dataframe to an interactive table.\"\n",
              "              style=\"display:none;\">\n",
              "        \n",
              "  <svg xmlns=\"http://www.w3.org/2000/svg\" height=\"24px\"viewBox=\"0 0 24 24\"\n",
              "       width=\"24px\">\n",
              "    <path d=\"M0 0h24v24H0V0z\" fill=\"none\"/>\n",
              "    <path d=\"M18.56 5.44l.94 2.06.94-2.06 2.06-.94-2.06-.94-.94-2.06-.94 2.06-2.06.94zm-11 1L8.5 8.5l.94-2.06 2.06-.94-2.06-.94L8.5 2.5l-.94 2.06-2.06.94zm10 10l.94 2.06.94-2.06 2.06-.94-2.06-.94-.94-2.06-.94 2.06-2.06.94z\"/><path d=\"M17.41 7.96l-1.37-1.37c-.4-.4-.92-.59-1.43-.59-.52 0-1.04.2-1.43.59L10.3 9.45l-7.72 7.72c-.78.78-.78 2.05 0 2.83L4 21.41c.39.39.9.59 1.41.59.51 0 1.02-.2 1.41-.59l7.78-7.78 2.81-2.81c.8-.78.8-2.07 0-2.86zM5.41 20L4 18.59l7.72-7.72 1.47 1.35L5.41 20z\"/>\n",
              "  </svg>\n",
              "      </button>\n",
              "      \n",
              "  <style>\n",
              "    .colab-df-container {\n",
              "      display:flex;\n",
              "      flex-wrap:wrap;\n",
              "      gap: 12px;\n",
              "    }\n",
              "\n",
              "    .colab-df-convert {\n",
              "      background-color: #E8F0FE;\n",
              "      border: none;\n",
              "      border-radius: 50%;\n",
              "      cursor: pointer;\n",
              "      display: none;\n",
              "      fill: #1967D2;\n",
              "      height: 32px;\n",
              "      padding: 0 0 0 0;\n",
              "      width: 32px;\n",
              "    }\n",
              "\n",
              "    .colab-df-convert:hover {\n",
              "      background-color: #E2EBFA;\n",
              "      box-shadow: 0px 1px 2px rgba(60, 64, 67, 0.3), 0px 1px 3px 1px rgba(60, 64, 67, 0.15);\n",
              "      fill: #174EA6;\n",
              "    }\n",
              "\n",
              "    [theme=dark] .colab-df-convert {\n",
              "      background-color: #3B4455;\n",
              "      fill: #D2E3FC;\n",
              "    }\n",
              "\n",
              "    [theme=dark] .colab-df-convert:hover {\n",
              "      background-color: #434B5C;\n",
              "      box-shadow: 0px 1px 3px 1px rgba(0, 0, 0, 0.15);\n",
              "      filter: drop-shadow(0px 1px 2px rgba(0, 0, 0, 0.3));\n",
              "      fill: #FFFFFF;\n",
              "    }\n",
              "  </style>\n",
              "\n",
              "      <script>\n",
              "        const buttonEl =\n",
              "          document.querySelector('#df-a930e42a-4c36-4878-a1df-54ec5666d892 button.colab-df-convert');\n",
              "        buttonEl.style.display =\n",
              "          google.colab.kernel.accessAllowed ? 'block' : 'none';\n",
              "\n",
              "        async function convertToInteractive(key) {\n",
              "          const element = document.querySelector('#df-a930e42a-4c36-4878-a1df-54ec5666d892');\n",
              "          const dataTable =\n",
              "            await google.colab.kernel.invokeFunction('convertToInteractive',\n",
              "                                                     [key], {});\n",
              "          if (!dataTable) return;\n",
              "\n",
              "          const docLinkHtml = 'Like what you see? Visit the ' +\n",
              "            '<a target=\"_blank\" href=https://colab.research.google.com/notebooks/data_table.ipynb>data table notebook</a>'\n",
              "            + ' to learn more about interactive tables.';\n",
              "          element.innerHTML = '';\n",
              "          dataTable['output_type'] = 'display_data';\n",
              "          await google.colab.output.renderOutput(dataTable, element);\n",
              "          const docLink = document.createElement('div');\n",
              "          docLink.innerHTML = docLinkHtml;\n",
              "          element.appendChild(docLink);\n",
              "        }\n",
              "      </script>\n",
              "    </div>\n",
              "  </div>\n",
              "  "
            ]
          },
          "metadata": {},
          "execution_count": 165
        }
      ]
    },
    {
      "cell_type": "markdown",
      "source": [
        "## 1. Data Exploration\n",
        "\n",
        "Before starting to train models, we should explore the dataset to see what insights we can obtain. Firstly, we'll look at the distribution of the tags assigned to each movie."
      ],
      "metadata": {
        "id": "Fwk93hGGekGK"
      }
    },
    {
      "cell_type": "code",
      "source": [
        "# Get total counts of each tag\n",
        "tag_counts = pd.DataFrame({'tags': pd.Series([tag for tags in raw_data[\"tags\"] for tag in tags])}).apply(pd.value_counts) \n",
        "\n",
        "# Plot tag distribution\n",
        "tag_names = tag_counts.index.values.tolist()\n",
        "tag_counts = tag_counts.values[:,0].tolist()\n",
        "\n",
        "fig = plt.figure(figsize=(20,5))\n",
        "plt.title('Distribution of tags')\n",
        "plt.xlabel('Tags')\n",
        "plt.ylabel('Counts')\n",
        "plt.xlim([-1, len(tag_names)])\n",
        "plt.bar(tag_names, tag_counts, width=1)#, color='b', edgecolor='navy')\n",
        "plt.yscale('log')\n",
        "plt.xticks(rotation='vertical')\n",
        "plt.tight_layout()\n",
        "plt.show()"
      ],
      "metadata": {
        "colab": {
          "base_uri": "https://localhost:8080/",
          "height": 409
        },
        "id": "w_XRkxzw7prG",
        "outputId": "66299629-3944-4949-b951-4c5888b1f1a6"
      },
      "execution_count": 239,
      "outputs": [
        {
          "output_type": "display_data",
          "data": {
            "text/plain": [
              "<Figure size 1600x400 with 1 Axes>"
            ],
            "image/png": "[encoded data removed]"
          },
          "metadata": {}
        }
      ]
    },
    {
      "cell_type": "markdown",
      "source": [
        "As we can see from the distribution of the tags, the dataset is quite unbalanced and shows a long tail. The difference between the most and least common tag is of almost 1.5 orders of magnitude. We should keep this in mind when training and evaluating our models, as simply predicting drama would artificially create a decent classifier.\n",
        "\n",
        "Now let's have a look at the number of tags per movie."
      ],
      "metadata": {
        "id": "cK-va8Yyd4cj"
      }
    },
    {
      "cell_type": "code",
      "source": [
        "num_tags = raw_data[\"tags\"].str.len()\n",
        "counts, bins = np.histogram(num_tags, bins=max(num_tags)-1)\n",
        "\n",
        "fig = plt.figure(figsize=(10,5))\n",
        "plt.title('Number of tags per movie')\n",
        "plt.xlabel('Number of tags')\n",
        "plt.ylabel('Movies')\n",
        "plt.xticks(bins)\n",
        "plt.bar(bins[:-1], counts)\n",
        "plt.tight_layout()\n",
        "plt.show()"
      ],
      "metadata": {
        "colab": {
          "base_uri": "https://localhost:8080/",
          "height": 409
        },
        "id": "VRem2ouBv7hV",
        "outputId": "cb04f7c8-ffaa-4e20-fbf7-463b1bfbe8ef"
      },
      "execution_count": 242,
      "outputs": [
        {
          "output_type": "display_data",
          "data": {
            "text/plain": [
              "<Figure size 800x400 with 1 Axes>"
            ],
            "image/png": "[encoded data removed]"
          },
          "metadata": {}
        }
      ]
    },
    {
      "cell_type": "markdown",
      "source": [
        "From this plot we can see that the dataset is indeed extremely unbalanced, not only in the distribution of tags, but also in the number of tags per movie. We'll keep this in mind when designing our models.\n",
        "\n",
        "## 2. Data preparation\n",
        "\n",
        "### 2.1 Label encoding\n",
        "\n",
        "Now we have to prepare our data for training the models. Firstly, we have to encode the labels. Given that the dataset is multi-labeled, we can't just apply a simple encoding mechanism, such as 1hot, as each feature might have more than one target. For this end, we encode with a [MultiLabelBinarizer](https://scikit-learn.org/stable/modules/generated/sklearn.preprocessing.MultiLabelBinarizer.html). We will also define our features as $X$ (plot synopsis) and our labels as $y$ (tags). "
      ],
      "metadata": {
        "id": "SmG7alxX3f1C"
      }
    },
    {
      "cell_type": "code",
      "source": [
        "X = raw_data[\"plot\"]\n",
        "y = raw_data[\"tags\"]"
      ],
      "metadata": {
        "id": "2IMq2Ehg5D40"
      },
      "execution_count": 276,
      "outputs": []
    },
    {
      "cell_type": "code",
      "source": [
        "from sklearn.preprocessing import MultiLabelBinarizer\n",
        "\n",
        "mlb = MultiLabelBinarizer()\n",
        "y = mlb.fit_transform(y)\n",
        "print(y.shape)"
      ],
      "metadata": {
        "colab": {
          "base_uri": "https://localhost:8080/"
        },
        "id": "tmP6nh3G7Jd1",
        "outputId": "d97ce8c5-5850-482a-be36-ab5fac5b3a44"
      },
      "execution_count": 277,
      "outputs": [
        {
          "output_type": "stream",
          "name": "stdout",
          "text": [
            "(5595, 85)\n"
          ]
        }
      ]
    },
    {
      "cell_type": "code",
      "source": [
        "# Cross check with raw data to confirm it's working (and that there's a lot of drama)\n",
        "print(y[0:3])\n",
        "print(mlb.inverse_transform(y[0:3]))"
      ],
      "metadata": {
        "colab": {
          "base_uri": "https://localhost:8080/"
        },
        "id": "xI2D5ofg6gDp",
        "outputId": "0b1c2c26-d63b-4e2d-9ce1-8d4ae6d200cd"
      },
      "execution_count": 280,
      "outputs": [
        {
          "output_type": "stream",
          "name": "stdout",
          "text": [
            "[[0 0 0 0 0 0 0 0 0 0 0 0 0 0 0 0 0 0 0 0 0 0 1 0 0 0 0 0 0 0 0 0 0 0 0 0\n",
            "  0 0 0 0 0 0 0 0 0 0 0 0 0 0 0 0 0 0 0 0 0 0 0 0 0 0 0 0 0 0 0 0 0 0 0 0\n",
            "  0 0 0 0 0 0 0 0 0 0 0 0 0]\n",
            " [0 0 0 0 0 0 0 0 0 0 0 0 0 0 0 0 0 0 0 0 0 0 0 0 0 0 0 0 0 0 0 0 0 0 0 0\n",
            "  0 0 0 0 0 0 0 0 0 0 0 0 0 0 0 0 0 1 0 0 0 0 0 0 0 0 0 1 0 0 0 0 0 0 0 0\n",
            "  0 0 0 0 0 0 0 0 0 0 0 0 0]\n",
            " [0 0 0 0 0 0 0 0 0 0 0 0 0 0 0 0 0 0 0 0 0 0 0 1 0 0 0 0 0 0 0 0 0 0 0 0\n",
            "  0 0 0 0 0 0 0 0 0 0 0 0 0 0 0 0 0 0 0 0 0 0 0 0 0 0 0 0 0 0 0 0 0 0 0 0\n",
            "  0 0 0 0 0 0 0 0 0 0 0 0 0]]\n",
            "[('documentary',), ('pirates', 'scifi'), ('drama',)]\n"
          ]
        }
      ]
    },
    {
      "cell_type": "code",
      "source": [],
      "metadata": {
        "id": "qLH_NjWM6g7M"
      },
      "execution_count": null,
      "outputs": []
    }
  ]
}